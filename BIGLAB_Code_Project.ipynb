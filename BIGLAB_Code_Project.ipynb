{
 "cells": [
  {
   "cell_type": "markdown",
   "source": [
    "# Import Section"
   ],
   "metadata": {
    "collapsed": false,
    "pycharm": {
     "name": "#%% md\n"
    }
   }
  },
  {
   "cell_type": "code",
   "execution_count": 1,
   "metadata": {
    "collapsed": true,
    "pycharm": {
     "name": "#%%\n"
    }
   },
   "outputs": [],
   "source": [
    "import findspark\n",
    "findspark.init()"
   ]
  },
  {
   "cell_type": "code",
   "execution_count": 2,
   "outputs": [],
   "source": [
    "import pyspark\n",
    "from pyspark.ml.feature import StringIndexer\n",
    "from pyspark.sql import SparkSession\n",
    "from pyspark.sql.functions import *\n",
    "import pyspark.sql.functions as func\n",
    "from pyspark.ml import Pipeline\n",
    "from pyspark.ml.feature import VectorAssembler\n",
    "from pyspark.ml.feature import MinMaxScaler, StandardScaler, RobustScaler\n",
    "from pyspark.ml.feature import OneHotEncoder\n",
    "from pyspark.ml.regression import LinearRegression"
   ],
   "metadata": {
    "collapsed": false,
    "pycharm": {
     "name": "#%%\n"
    }
   }
  },
  {
   "cell_type": "code",
   "execution_count": 3,
   "outputs": [],
   "source": [
    "import os\n",
    "import pandas as pd\n",
    "import seaborn as sns\n",
    "import matplotlib.pyplot as plt\n",
    "%matplotlib inline\n",
    "plt.rcParams['figure.figsize'] = [12,8]"
   ],
   "metadata": {
    "collapsed": false,
    "pycharm": {
     "name": "#%%\n"
    }
   }
  },
  {
   "cell_type": "markdown",
   "source": [
    "# Start Spark Session"
   ],
   "metadata": {
    "collapsed": false,
    "pycharm": {
     "name": "#%% md\n"
    }
   }
  },
  {
   "cell_type": "code",
   "execution_count": 4,
   "outputs": [],
   "source": [
    "spark = SparkSession.builder.appName(\"Linear_Regression\").getOrCreate()"
   ],
   "metadata": {
    "collapsed": false,
    "pycharm": {
     "name": "#%%\n"
    }
   }
  },
  {
   "cell_type": "code",
   "execution_count": 5,
   "outputs": [],
   "source": [
    "sc = spark.sparkContext"
   ],
   "metadata": {
    "collapsed": false,
    "pycharm": {
     "name": "#%%\n"
    }
   }
  },
  {
   "cell_type": "code",
   "source": [
    "sc"
   ],
   "metadata": {
    "collapsed": false,
    "pycharm": {
     "name": "#%%\n"
    }
   },
   "execution_count": 6,
   "outputs": [
    {
     "data": {
      "text/plain": "<SparkContext master=local[*] appName=Linear_Regression>",
      "text/html": "\n        <div>\n            <p><b>SparkContext</b></p>\n\n            <p><a href=\"http://LAPTOP-4TF38M8D:4040\">Spark UI</a></p>\n\n            <dl>\n              <dt>Version</dt>\n                <dd><code>v3.1.3</code></dd>\n              <dt>Master</dt>\n                <dd><code>local[*]</code></dd>\n              <dt>AppName</dt>\n                <dd><code>Linear_Regression</code></dd>\n            </dl>\n        </div>\n        "
     },
     "execution_count": 6,
     "metadata": {},
     "output_type": "execute_result"
    }
   ]
  },
  {
   "cell_type": "markdown",
   "source": [
    "# Load CSV file (\"Dataset_Voli\")"
   ],
   "metadata": {
    "collapsed": false,
    "pycharm": {
     "name": "#%% md\n"
    }
   }
  },
  {
   "cell_type": "code",
   "execution_count": 7,
   "outputs": [],
   "source": [
    "dsname = \"Dataset_Voli.csv\"\n",
    "dspath = \"C:\\\\Users\\\\Francesco\\Desktop\\LABORATORIO DI BIG DATA\""
   ],
   "metadata": {
    "collapsed": false,
    "pycharm": {
     "name": "#%%\n"
    }
   }
  },
  {
   "cell_type": "code",
   "execution_count": 8,
   "outputs": [],
   "source": [
    "df = spark.read.csv(os.path.join(dspath,dsname), inferSchema=True, header=True)"
   ],
   "metadata": {
    "collapsed": false,
    "pycharm": {
     "name": "#%%\n"
    }
   }
  },
  {
   "cell_type": "markdown",
   "source": [
    "# Overview of Dataset"
   ],
   "metadata": {
    "collapsed": false,
    "pycharm": {
     "name": "#%% md\n"
    }
   }
  },
  {
   "cell_type": "code",
   "execution_count": 9,
   "outputs": [
    {
     "data": {
      "text/plain": "300153"
     },
     "execution_count": 9,
     "metadata": {},
     "output_type": "execute_result"
    }
   ],
   "source": [
    "df.count()"
   ],
   "metadata": {
    "collapsed": false,
    "pycharm": {
     "name": "#%%\n"
    }
   }
  },
  {
   "cell_type": "code",
   "execution_count": 10,
   "outputs": [
    {
     "data": {
      "text/plain": "12"
     },
     "execution_count": 10,
     "metadata": {},
     "output_type": "execute_result"
    }
   ],
   "source": [
    "len(df.columns)"
   ],
   "metadata": {
    "collapsed": false,
    "pycharm": {
     "name": "#%%\n"
    }
   }
  },
  {
   "cell_type": "code",
   "execution_count": 11,
   "outputs": [
    {
     "data": {
      "text/plain": "Row(_c0=0, airline='SpiceJet', flight='SG-8709', source_city='Delhi', departure_time='Evening', stops='zero', arrival_time='Night', destination_city='Mumbai', class='Economy', duration=2.17, days_left=1, price=5953)"
     },
     "execution_count": 11,
     "metadata": {},
     "output_type": "execute_result"
    }
   ],
   "source": [
    "df.head()"
   ],
   "metadata": {
    "collapsed": false,
    "pycharm": {
     "name": "#%%\n"
    }
   }
  },
  {
   "cell_type": "code",
   "execution_count": 12,
   "outputs": [
    {
     "data": {
      "text/plain": "[Row(_c0=300152, airline='Vistara', flight='UK-822', source_city='Chennai', departure_time='Morning', stops='one', arrival_time='Evening', destination_city='Hyderabad', class='Business', duration=10.08, days_left=49, price=81585)]"
     },
     "execution_count": 12,
     "metadata": {},
     "output_type": "execute_result"
    }
   ],
   "source": [
    "df.tail(1)"
   ],
   "metadata": {
    "collapsed": false,
    "pycharm": {
     "name": "#%%\n"
    }
   }
  },
  {
   "cell_type": "code",
   "execution_count": 13,
   "outputs": [
    {
     "name": "stdout",
     "output_type": "stream",
     "text": [
      "+---+---------+-------+-----------+--------------+-----+-------------+----------------+-------+--------+---------+-----+\n",
      "|_c0|  airline| flight|source_city|departure_time|stops| arrival_time|destination_city|  class|duration|days_left|price|\n",
      "+---+---------+-------+-----------+--------------+-----+-------------+----------------+-------+--------+---------+-----+\n",
      "|  0| SpiceJet|SG-8709|      Delhi|       Evening| zero|        Night|          Mumbai|Economy|    2.17|        1| 5953|\n",
      "|  1| SpiceJet|SG-8157|      Delhi| Early_Morning| zero|      Morning|          Mumbai|Economy|    2.33|        1| 5953|\n",
      "|  2|  AirAsia| I5-764|      Delhi| Early_Morning| zero|Early_Morning|          Mumbai|Economy|    2.17|        1| 5956|\n",
      "|  3|  Vistara| UK-995|      Delhi|       Morning| zero|    Afternoon|          Mumbai|Economy|    2.25|        1| 5955|\n",
      "|  4|  Vistara| UK-963|      Delhi|       Morning| zero|      Morning|          Mumbai|Economy|    2.33|        1| 5955|\n",
      "|  5|  Vistara| UK-945|      Delhi|       Morning| zero|    Afternoon|          Mumbai|Economy|    2.33|        1| 5955|\n",
      "|  6|  Vistara| UK-927|      Delhi|       Morning| zero|      Morning|          Mumbai|Economy|    2.08|        1| 6060|\n",
      "|  7|  Vistara| UK-951|      Delhi|     Afternoon| zero|      Evening|          Mumbai|Economy|    2.17|        1| 6060|\n",
      "|  8| GO_FIRST| G8-334|      Delhi| Early_Morning| zero|      Morning|          Mumbai|Economy|    2.17|        1| 5954|\n",
      "|  9| GO_FIRST| G8-336|      Delhi|     Afternoon| zero|      Evening|          Mumbai|Economy|    2.25|        1| 5954|\n",
      "| 10| GO_FIRST| G8-392|      Delhi|     Afternoon| zero|      Evening|          Mumbai|Economy|    2.25|        1| 5954|\n",
      "| 11| GO_FIRST| G8-338|      Delhi|       Morning| zero|    Afternoon|          Mumbai|Economy|    2.33|        1| 5954|\n",
      "| 12|   Indigo|6E-5001|      Delhi| Early_Morning| zero|      Morning|          Mumbai|Economy|    2.17|        1| 5955|\n",
      "| 13|   Indigo|6E-6202|      Delhi|       Morning| zero|    Afternoon|          Mumbai|Economy|    2.17|        1| 5955|\n",
      "| 14|   Indigo| 6E-549|      Delhi|     Afternoon| zero|      Evening|          Mumbai|Economy|    2.25|        1| 5955|\n",
      "| 15|   Indigo|6E-6278|      Delhi|       Morning| zero|      Morning|          Mumbai|Economy|    2.33|        1| 5955|\n",
      "| 16|Air_India| AI-887|      Delhi| Early_Morning| zero|      Morning|          Mumbai|Economy|    2.08|        1| 5955|\n",
      "| 17|Air_India| AI-665|      Delhi| Early_Morning| zero|      Morning|          Mumbai|Economy|    2.17|        1| 5955|\n",
      "| 18|  AirAsia| I5-747|      Delhi|       Evening|  one|Early_Morning|          Mumbai|Economy|   12.25|        1| 5949|\n",
      "| 19|  AirAsia| I5-747|      Delhi|       Evening|  one|      Morning|          Mumbai|Economy|   16.33|        1| 5949|\n",
      "+---+---------+-------+-----------+--------------+-----+-------------+----------------+-------+--------+---------+-----+\n",
      "only showing top 20 rows\n",
      "\n"
     ]
    }
   ],
   "source": [
    "df.show()"
   ],
   "metadata": {
    "collapsed": false,
    "pycharm": {
     "name": "#%%\n"
    }
   }
  },
  {
   "cell_type": "code",
   "execution_count": 14,
   "outputs": [
    {
     "name": "stdout",
     "output_type": "stream",
     "text": [
      "root\n",
      " |-- _c0: integer (nullable = true)\n",
      " |-- airline: string (nullable = true)\n",
      " |-- flight: string (nullable = true)\n",
      " |-- source_city: string (nullable = true)\n",
      " |-- departure_time: string (nullable = true)\n",
      " |-- stops: string (nullable = true)\n",
      " |-- arrival_time: string (nullable = true)\n",
      " |-- destination_city: string (nullable = true)\n",
      " |-- class: string (nullable = true)\n",
      " |-- duration: double (nullable = true)\n",
      " |-- days_left: integer (nullable = true)\n",
      " |-- price: integer (nullable = true)\n",
      "\n"
     ]
    }
   ],
   "source": [
    "df.printSchema()"
   ],
   "metadata": {
    "collapsed": false,
    "pycharm": {
     "name": "#%%\n"
    }
   }
  },
  {
   "cell_type": "markdown",
   "source": [
    "# Data Cleaning:"
   ],
   "metadata": {
    "collapsed": false,
    "pycharm": {
     "name": "#%% md\n"
    }
   }
  },
  {
   "cell_type": "markdown",
   "source": [
    "## Cleaning of NA values,Duplicates values and control of useless values"
   ],
   "metadata": {
    "collapsed": false,
    "pycharm": {
     "name": "#%% md\n"
    }
   }
  },
  {
   "cell_type": "code",
   "execution_count": 15,
   "outputs": [
    {
     "name": "stdout",
     "output_type": "stream",
     "text": [
      "+---+-------+------+-----------+--------------+-----+------------+----------------+-----+--------+---------+-----+\n",
      "|_c0|airline|flight|source_city|departure_time|stops|arrival_time|destination_city|class|duration|days_left|price|\n",
      "+---+-------+------+-----------+--------------+-----+------------+----------------+-----+--------+---------+-----+\n",
      "|  0|      0|     0|          0|             0|    0|           0|               0|    0|       0|        0|    0|\n",
      "+---+-------+------+-----------+--------------+-----+------------+----------------+-----+--------+---------+-----+\n",
      "\n"
     ]
    }
   ],
   "source": [
    "df.select([count(when(isnan(c) | col(c).isNull(), c)).alias(c) for c in df.columns]).show()"
   ],
   "metadata": {
    "collapsed": false,
    "pycharm": {
     "name": "#%%\n"
    }
   }
  },
  {
   "cell_type": "code",
   "execution_count": 16,
   "outputs": [
    {
     "name": "stdout",
     "output_type": "stream",
     "text": [
      "Distinct count: 300153\n"
     ]
    }
   ],
   "source": [
    "df = df.distinct()\n",
    "print(\"Distinct count: \"+str(df.count()))"
   ],
   "metadata": {
    "collapsed": false,
    "pycharm": {
     "name": "#%%\n"
    }
   }
  },
  {
   "cell_type": "code",
   "execution_count": 17,
   "outputs": [
    {
     "data": {
      "text/plain": "10"
     },
     "execution_count": 17,
     "metadata": {},
     "output_type": "execute_result"
    }
   ],
   "source": [
    "df = df.drop(\"_c0\")\n",
    "df = df.drop(\"flight\")\n",
    "len(df.columns)"
   ],
   "metadata": {
    "collapsed": false,
    "pycharm": {
     "name": "#%%\n"
    }
   }
  },
  {
   "cell_type": "markdown",
   "source": [
    "# Casting and Recoding"
   ],
   "metadata": {
    "collapsed": false,
    "pycharm": {
     "name": "#%% md\n"
    }
   }
  },
  {
   "cell_type": "code",
   "execution_count": 18,
   "outputs": [
    {
     "name": "stdout",
     "output_type": "stream",
     "text": [
      "+---------+-----------+--------------+-----+-------------+----------------+-------+--------+---------+-----+\n",
      "|  airline|source_city|departure_time|stops| arrival_time|destination_city|  class|duration|days_left|price|\n",
      "+---------+-----------+--------------+-----+-------------+----------------+-------+--------+---------+-----+\n",
      "|Air_India|      Delhi|         Night|  one|      Morning|          Mumbai|Economy|      11|        3|12150|\n",
      "|Air_India|      Delhi| Early_Morning|  one|    Afternoon|          Mumbai|Economy|       9|        4|11900|\n",
      "|   Indigo|      Delhi|       Evening| zero|        Night|          Mumbai|Economy|       2|        7| 5955|\n",
      "|   Indigo|      Delhi|       Morning| zero|      Morning|          Mumbai|Economy|       2|        7| 7110|\n",
      "|Air_India|      Delhi|       Morning|  one|        Night|          Mumbai|Economy|      11|       10|15195|\n",
      "|  Vistara|      Delhi|       Evening| zero|        Night|          Mumbai|Economy|       2|       11| 5955|\n",
      "|  AirAsia|      Delhi|       Evening|  one|Early_Morning|          Mumbai|Economy|      15|       11| 9840|\n",
      "|   Indigo|      Delhi| Early_Morning|  one|      Morning|          Mumbai|Economy|       5|       11|11153|\n",
      "|  Vistara|      Delhi|     Afternoon| zero|      Evening|          Mumbai|Economy|       2|       12| 5955|\n",
      "|  Vistara|      Delhi|       Morning|  one|        Night|          Mumbai|Economy|      12|       14|12150|\n",
      "|   Indigo|      Delhi|       Evening| zero|      Evening|          Mumbai|Economy|       2|       16| 3001|\n",
      "|  AirAsia|      Delhi|       Evening|  one|   Late_Night|          Mumbai|Economy|       9|       17| 5230|\n",
      "|  Vistara|      Delhi|       Evening|  one|      Morning|          Mumbai|Economy|      12|       17| 6296|\n",
      "| SpiceJet|      Delhi|       Evening| zero|        Night|          Mumbai|Economy|       2|       18| 2621|\n",
      "| GO_FIRST|      Delhi| Early_Morning| zero|      Morning|          Mumbai|Economy|       2|       19| 2410|\n",
      "|  AirAsia|      Delhi|         Night|  one|    Afternoon|          Mumbai|Economy|      14|       19| 2409|\n",
      "|  Vistara|      Delhi|         Night|  one|      Morning|          Mumbai|Economy|      12|       19| 6296|\n",
      "|Air_India|      Delhi|       Evening|  one|      Morning|          Mumbai|Economy|      16|       20| 4251|\n",
      "|  Vistara|      Delhi|       Evening|  one|        Night|          Mumbai|Economy|       4|       21|10050|\n",
      "|  Vistara|      Delhi|       Morning| zero|    Afternoon|          Mumbai|Economy|       2|       23| 2700|\n",
      "+---------+-----------+--------------+-----+-------------+----------------+-------+--------+---------+-----+\n",
      "only showing top 20 rows\n",
      "\n",
      "root\n",
      " |-- airline: string (nullable = true)\n",
      " |-- source_city: string (nullable = true)\n",
      " |-- departure_time: string (nullable = true)\n",
      " |-- stops: string (nullable = true)\n",
      " |-- arrival_time: string (nullable = true)\n",
      " |-- destination_city: string (nullable = true)\n",
      " |-- class: string (nullable = true)\n",
      " |-- duration: integer (nullable = true)\n",
      " |-- days_left: integer (nullable = true)\n",
      " |-- price: integer (nullable = true)\n",
      "\n"
     ]
    }
   ],
   "source": [
    "df = df.withColumn(\"duration\", func.round(df[\"duration\"]).cast('integer'))\n",
    "df.show()\n",
    "df.printSchema()"
   ],
   "metadata": {
    "collapsed": false,
    "pycharm": {
     "name": "#%%\n"
    }
   }
  },
  {
   "cell_type": "code",
   "execution_count": 19,
   "outputs": [
    {
     "name": "stdout",
     "output_type": "stream",
     "text": [
      "+---------+-----------+--------------+-----+-------------+----------------+-------+--------+---------+----------+\n",
      "|  airline|source_city|departure_time|stops| arrival_time|destination_city|  class|duration|days_left|Price_in_K|\n",
      "+---------+-----------+--------------+-----+-------------+----------------+-------+--------+---------+----------+\n",
      "|Air_India|      Delhi|         Night|  one|      Morning|          Mumbai|Economy|      11|        3|        12|\n",
      "|Air_India|      Delhi| Early_Morning|  one|    Afternoon|          Mumbai|Economy|       9|        4|        12|\n",
      "|   Indigo|      Delhi|       Evening| zero|        Night|          Mumbai|Economy|       2|        7|         6|\n",
      "|   Indigo|      Delhi|       Morning| zero|      Morning|          Mumbai|Economy|       2|        7|         7|\n",
      "|Air_India|      Delhi|       Morning|  one|        Night|          Mumbai|Economy|      11|       10|        15|\n",
      "|  Vistara|      Delhi|       Evening| zero|        Night|          Mumbai|Economy|       2|       11|         6|\n",
      "|  AirAsia|      Delhi|       Evening|  one|Early_Morning|          Mumbai|Economy|      15|       11|        10|\n",
      "|   Indigo|      Delhi| Early_Morning|  one|      Morning|          Mumbai|Economy|       5|       11|        11|\n",
      "|  Vistara|      Delhi|     Afternoon| zero|      Evening|          Mumbai|Economy|       2|       12|         6|\n",
      "|  Vistara|      Delhi|       Morning|  one|        Night|          Mumbai|Economy|      12|       14|        12|\n",
      "|   Indigo|      Delhi|       Evening| zero|      Evening|          Mumbai|Economy|       2|       16|         3|\n",
      "|  AirAsia|      Delhi|       Evening|  one|   Late_Night|          Mumbai|Economy|       9|       17|         5|\n",
      "|  Vistara|      Delhi|       Evening|  one|      Morning|          Mumbai|Economy|      12|       17|         6|\n",
      "| SpiceJet|      Delhi|       Evening| zero|        Night|          Mumbai|Economy|       2|       18|         3|\n",
      "| GO_FIRST|      Delhi| Early_Morning| zero|      Morning|          Mumbai|Economy|       2|       19|         2|\n",
      "|  AirAsia|      Delhi|         Night|  one|    Afternoon|          Mumbai|Economy|      14|       19|         2|\n",
      "|  Vistara|      Delhi|         Night|  one|      Morning|          Mumbai|Economy|      12|       19|         6|\n",
      "|Air_India|      Delhi|       Evening|  one|      Morning|          Mumbai|Economy|      16|       20|         4|\n",
      "|  Vistara|      Delhi|       Evening|  one|        Night|          Mumbai|Economy|       4|       21|        10|\n",
      "|  Vistara|      Delhi|       Morning| zero|    Afternoon|          Mumbai|Economy|       2|       23|         3|\n",
      "+---------+-----------+--------------+-----+-------------+----------------+-------+--------+---------+----------+\n",
      "only showing top 20 rows\n",
      "\n",
      "root\n",
      " |-- airline: string (nullable = true)\n",
      " |-- source_city: string (nullable = true)\n",
      " |-- departure_time: string (nullable = true)\n",
      " |-- stops: string (nullable = true)\n",
      " |-- arrival_time: string (nullable = true)\n",
      " |-- destination_city: string (nullable = true)\n",
      " |-- class: string (nullable = true)\n",
      " |-- duration: integer (nullable = true)\n",
      " |-- days_left: integer (nullable = true)\n",
      " |-- Price_in_K: integer (nullable = true)\n",
      "\n"
     ]
    }
   ],
   "source": [
    "df= df.withColumn('Price_in_K', df[\"price\"]/1000)\n",
    "df = df.withColumn(\"Price_in_K\", func.round(df[\"Price_in_K\"]).cast('integer'))\n",
    "df = df.drop(\"price\")\n",
    "df.show()\n",
    "df.printSchema()"
   ],
   "metadata": {
    "collapsed": false,
    "pycharm": {
     "name": "#%%\n"
    }
   }
  },
  {
   "cell_type": "markdown",
   "source": [
    "# Data Visualization:"
   ],
   "metadata": {
    "collapsed": false,
    "pycharm": {
     "name": "#%% md\n"
    }
   }
  },
  {
   "cell_type": "markdown",
   "source": [
    "## Distribution Graphs of Dataset Variables\n",
    "## Barplot of Qualitative Variables"
   ],
   "metadata": {
    "collapsed": false,
    "pycharm": {
     "name": "#%% md\n"
    }
   }
  },
  {
   "cell_type": "code",
   "execution_count": 20,
   "outputs": [],
   "source": [
    "df_graph = df.toPandas()"
   ],
   "metadata": {
    "collapsed": false,
    "pycharm": {
     "name": "#%%\n"
    }
   }
  },
  {
   "cell_type": "code",
   "execution_count": 21,
   "outputs": [
    {
     "name": "stdout",
     "output_type": "stream",
     "text": [
      "+---------+-------------+\n",
      "|  airline|Count_airline|\n",
      "+---------+-------------+\n",
      "|  Vistara|       127859|\n",
      "|Air_India|        80892|\n",
      "|   Indigo|        43120|\n",
      "| GO_FIRST|        23173|\n",
      "|  AirAsia|        16098|\n",
      "| SpiceJet|         9011|\n",
      "+---------+-------------+\n",
      "\n"
     ]
    },
    {
     "data": {
      "text/plain": "<AxesSubplot:xlabel='airline', ylabel='count'>"
     },
     "execution_count": 21,
     "metadata": {},
     "output_type": "execute_result"
    },
    {
     "data": {
      "text/plain": "<Figure size 864x576 with 1 Axes>",
      "image/png": "[encoded data removed]"
     },
     "metadata": {},
     "output_type": "display_data"
    }
   ],
   "source": [
    "df.groupby('airline').count().withColumnRenamed(\"count\",\"Count_airline\").sort(desc(\"count\")).show()\n",
    "sns.set_style(\"whitegrid\")\n",
    "sns.countplot(x=\"airline\", data=df_graph, palette= [\"red\",\"blue\",\"green\",\"fuchsia\",\"yellow\",\"orange\"],order = df_graph['airline'].value_counts().index)"
   ],
   "metadata": {
    "collapsed": false,
    "pycharm": {
     "name": "#%%\n"
    }
   }
  },
  {
   "cell_type": "code",
   "execution_count": 22,
   "outputs": [
    {
     "name": "stdout",
     "output_type": "stream",
     "text": [
      "+-----------+-----------------+\n",
      "|source_city|Count_source_city|\n",
      "+-----------+-----------------+\n",
      "|      Delhi|            61343|\n",
      "|     Mumbai|            60896|\n",
      "|  Bangalore|            52061|\n",
      "|    Kolkata|            46347|\n",
      "|  Hyderabad|            40806|\n",
      "|    Chennai|            38700|\n",
      "+-----------+-----------------+\n",
      "\n"
     ]
    },
    {
     "data": {
      "text/plain": "<AxesSubplot:xlabel='source_city', ylabel='count'>"
     },
     "execution_count": 22,
     "metadata": {},
     "output_type": "execute_result"
    },
    {
     "data": {
      "text/plain": "<Figure size 864x576 with 1 Axes>",
      "image/png": "[encoded data removed]"
     },
     "metadata": {},
     "output_type": "display_data"
    }
   ],
   "source": [
    "df.groupby('source_city').count().withColumnRenamed(\"count\",\"Count_source_city\").sort(desc(\"count\")).show()\n",
    "sns.set_style(\"whitegrid\")\n",
    "sns.countplot(x=\"source_city\", data=df_graph, palette= [\"red\",\"blue\",\"green\",\"fuchsia\",\"yellow\",\"orange\"],order = df_graph['source_city'].value_counts().index)"
   ],
   "metadata": {
    "collapsed": false,
    "pycharm": {
     "name": "#%%\n"
    }
   }
  },
  {
   "cell_type": "code",
   "execution_count": 23,
   "outputs": [
    {
     "name": "stdout",
     "output_type": "stream",
     "text": [
      "+----------------+----------------------+\n",
      "|destination_city|Count_destination_city|\n",
      "+----------------+----------------------+\n",
      "|          Mumbai|                 59097|\n",
      "|           Delhi|                 57360|\n",
      "|       Bangalore|                 51068|\n",
      "|         Kolkata|                 49534|\n",
      "|       Hyderabad|                 42726|\n",
      "|         Chennai|                 40368|\n",
      "+----------------+----------------------+\n",
      "\n"
     ]
    },
    {
     "data": {
      "text/plain": "<AxesSubplot:xlabel='destination_city', ylabel='count'>"
     },
     "execution_count": 23,
     "metadata": {},
     "output_type": "execute_result"
    },
    {
     "data": {
      "text/plain": "<Figure size 864x576 with 1 Axes>",
      "image/png": "[encoded data removed]"
     },
     "metadata": {},
     "output_type": "display_data"
    }
   ],
   "source": [
    "df.groupby('destination_city').count().withColumnRenamed(\"count\",\"Count_destination_city\").sort(desc(\"count\")).show()\n",
    "sns.countplot(x=\"destination_city\", data=df_graph, palette= [\"blue\",\"red\",\"green\",\"fuchsia\",\"yellow\",\"orange\"],order = df_graph['destination_city'].value_counts().index)"
   ],
   "metadata": {
    "collapsed": false,
    "pycharm": {
     "name": "#%%\n"
    }
   }
  },
  {
   "cell_type": "code",
   "execution_count": 24,
   "outputs": [
    {
     "name": "stdout",
     "output_type": "stream",
     "text": [
      "+--------------+--------------------+\n",
      "|departure_time|Count_departure_time|\n",
      "+--------------+--------------------+\n",
      "|       Morning|               71146|\n",
      "| Early_Morning|               66790|\n",
      "|       Evening|               65102|\n",
      "|         Night|               48015|\n",
      "|     Afternoon|               47794|\n",
      "|    Late_Night|                1306|\n",
      "+--------------+--------------------+\n",
      "\n"
     ]
    },
    {
     "data": {
      "text/plain": "<AxesSubplot:xlabel='departure_time', ylabel='count'>"
     },
     "execution_count": 24,
     "metadata": {},
     "output_type": "execute_result"
    },
    {
     "data": {
      "text/plain": "<Figure size 864x576 with 1 Axes>",
      "image/png": "[encoded data removed]"
     },
     "metadata": {},
     "output_type": "display_data"
    }
   ],
   "source": [
    "df.groupby('departure_time').count().withColumnRenamed(\"count\",\"Count_departure_time\").sort(desc(\"count\")).show()\n",
    "sns.set_style(\"whitegrid\")\n",
    "sns.countplot(x=\"departure_time\", data=df_graph, palette= [\"red\",\"blue\",\"green\",\"fuchsia\",\"yellow\",\"orange\"],order = df_graph['departure_time'].value_counts().index)"
   ],
   "metadata": {
    "collapsed": false,
    "pycharm": {
     "name": "#%%\n"
    }
   }
  },
  {
   "cell_type": "code",
   "execution_count": 25,
   "outputs": [
    {
     "name": "stdout",
     "output_type": "stream",
     "text": [
      "+-------------+------------------+\n",
      "| arrival_time|Count_arrival_time|\n",
      "+-------------+------------------+\n",
      "|        Night|             91538|\n",
      "|      Evening|             78323|\n",
      "|      Morning|             62735|\n",
      "|    Afternoon|             38139|\n",
      "|Early_Morning|             15417|\n",
      "|   Late_Night|             14001|\n",
      "+-------------+------------------+\n",
      "\n"
     ]
    },
    {
     "data": {
      "text/plain": "<AxesSubplot:xlabel='arrival_time', ylabel='count'>"
     },
     "execution_count": 25,
     "metadata": {},
     "output_type": "execute_result"
    },
    {
     "data": {
      "text/plain": "<Figure size 864x576 with 1 Axes>",
      "image/png": "[encoded data removed]"
     },
     "metadata": {},
     "output_type": "display_data"
    }
   ],
   "source": [
    "df.groupby('arrival_time').count().withColumnRenamed(\"count\",\"Count_arrival_time\").sort(desc(\"count\")).show()\n",
    "sns.countplot(x=\"arrival_time\", data=df_graph, palette= [\"fuchsia\",\"green\",\"red\",\"yellow\",\"blue\",\"orange\"],order = df_graph['arrival_time'].value_counts().index)"
   ],
   "metadata": {
    "collapsed": false,
    "pycharm": {
     "name": "#%%\n"
    }
   }
  },
  {
   "cell_type": "code",
   "execution_count": 26,
   "outputs": [
    {
     "name": "stdout",
     "output_type": "stream",
     "text": [
      "+-----------+-----------+\n",
      "|      stops|Count_stops|\n",
      "+-----------+-----------+\n",
      "|        one|     250863|\n",
      "|       zero|      36004|\n",
      "|two_or_more|      13286|\n",
      "+-----------+-----------+\n",
      "\n"
     ]
    },
    {
     "data": {
      "text/plain": "<AxesSubplot:xlabel='stops', ylabel='count'>"
     },
     "execution_count": 26,
     "metadata": {},
     "output_type": "execute_result"
    },
    {
     "data": {
      "text/plain": "<Figure size 864x576 with 1 Axes>",
      "image/png": "[encoded data removed]"
     },
     "metadata": {},
     "output_type": "display_data"
    }
   ],
   "source": [
    "df.groupby('stops').count().withColumnRenamed(\"count\",\"Count_stops\").sort(desc(\"count\")).show()\n",
    "sns.set_style(\"whitegrid\")\n",
    "sns.countplot(x=\"stops\", data=df_graph, palette= [\"red\",\"blue\",\"green\"],order = df_graph['stops'].value_counts().index)"
   ],
   "metadata": {
    "collapsed": false,
    "pycharm": {
     "name": "#%%\n"
    }
   }
  },
  {
   "cell_type": "code",
   "execution_count": 27,
   "outputs": [
    {
     "name": "stdout",
     "output_type": "stream",
     "text": [
      "+--------+-----------+\n",
      "|   class|Count_class|\n",
      "+--------+-----------+\n",
      "| Economy|     206666|\n",
      "|Business|      93487|\n",
      "+--------+-----------+\n",
      "\n"
     ]
    },
    {
     "data": {
      "text/plain": "<AxesSubplot:xlabel='class', ylabel='count'>"
     },
     "execution_count": 27,
     "metadata": {},
     "output_type": "execute_result"
    },
    {
     "data": {
      "text/plain": "<Figure size 864x576 with 1 Axes>",
      "image/png": "[encoded data removed]"
     },
     "metadata": {},
     "output_type": "display_data"
    }
   ],
   "source": [
    "df.groupby('class').count().withColumnRenamed(\"count\",\"Count_class\").sort(desc(\"count\")).show()\n",
    "sns.countplot(x=\"class\", data=df_graph, palette= [\"red\",\"blue\"],order = df_graph['class'].value_counts().index)"
   ],
   "metadata": {
    "collapsed": false,
    "pycharm": {
     "name": "#%%\n"
    }
   }
  },
  {
   "cell_type": "markdown",
   "source": [
    "## Histograms of Quantitative Variables"
   ],
   "metadata": {
    "collapsed": false,
    "pycharm": {
     "name": "#%% md\n"
    }
   }
  },
  {
   "cell_type": "code",
   "execution_count": 28,
   "outputs": [
    {
     "name": "stdout",
     "output_type": "stream",
     "text": [
      "+--------+--------------+\n",
      "|duration|Count_duration|\n",
      "+--------+--------------+\n",
      "|       2|         20820|\n",
      "|       7|         17741|\n",
      "|      12|         17644|\n",
      "|       8|         17525|\n",
      "|       6|         17465|\n",
      "|      10|         17193|\n",
      "|      11|         17022|\n",
      "|       9|         16007|\n",
      "|      13|         15861|\n",
      "|      14|         14968|\n",
      "|      15|         13740|\n",
      "|      16|         12203|\n",
      "|       3|         11487|\n",
      "|       5|         11376|\n",
      "|      17|          8673|\n",
      "|      24|          6884|\n",
      "|      26|          6870|\n",
      "|      22|          6689|\n",
      "|      25|          6367|\n",
      "|      23|          6212|\n",
      "+--------+--------------+\n",
      "only showing top 20 rows\n",
      "\n"
     ]
    },
    {
     "data": {
      "text/plain": "<AxesSubplot:xlabel='duration', ylabel='Count'>"
     },
     "execution_count": 28,
     "metadata": {},
     "output_type": "execute_result"
    },
    {
     "data": {
      "text/plain": "<Figure size 864x576 with 1 Axes>",
      "image/png": "[encoded data removed]"
     },
     "metadata": {},
     "output_type": "display_data"
    }
   ],
   "source": [
    "df.groupby('duration').count().withColumnRenamed(\"count\",\"Count_duration\").sort(desc(\"count\")).show()\n",
    "sns.histplot(data=df_graph, x=\"duration\", color=\"red\",binwidth=1)"
   ],
   "metadata": {
    "collapsed": false,
    "pycharm": {
     "name": "#%%\n"
    }
   }
  },
  {
   "cell_type": "code",
   "execution_count": 29,
   "outputs": [
    {
     "data": {
      "text/plain": "[Text(0.5, 1.0, 'Boxplot Duration')]"
     },
     "execution_count": 29,
     "metadata": {},
     "output_type": "execute_result"
    },
    {
     "data": {
      "text/plain": "<Figure size 864x576 with 1 Axes>",
      "image/png": "[encoded data removed]"
     },
     "metadata": {},
     "output_type": "display_data"
    }
   ],
   "source": [
    "sns.boxplot(x=\"duration\", data=df_graph,color=\"red\").set(title=\"Boxplot Duration\")"
   ],
   "metadata": {
    "collapsed": false,
    "pycharm": {
     "name": "#%%\n"
    }
   }
  },
  {
   "cell_type": "code",
   "execution_count": 30,
   "outputs": [
    {
     "data": {
      "text/plain": "24"
     },
     "execution_count": 30,
     "metadata": {},
     "output_type": "execute_result"
    }
   ],
   "source": [
    "df.select(\"duration\").where(df.duration > 40).count()"
   ],
   "metadata": {
    "collapsed": false,
    "pycharm": {
     "name": "#%%\n"
    }
   }
  },
  {
   "cell_type": "code",
   "execution_count": 31,
   "outputs": [
    {
     "data": {
      "text/plain": "0"
     },
     "execution_count": 31,
     "metadata": {},
     "output_type": "execute_result"
    },
    {
     "data": {
      "text/plain": "<Figure size 864x576 with 1 Axes>",
      "image/png": "[encoded data removed]"
     },
     "metadata": {},
     "output_type": "display_data"
    }
   ],
   "source": [
    "df = df.where(df.duration < 40)\n",
    "df_graph = df.toPandas()\n",
    "sns.histplot(data=df_graph, x=\"duration\", color=\"red\",binwidth=1)\n",
    "df.select(\"duration\").where(df.duration > 40).count()"
   ],
   "metadata": {
    "collapsed": false,
    "pycharm": {
     "name": "#%%\n"
    }
   }
  },
  {
   "cell_type": "code",
   "execution_count": 32,
   "outputs": [
    {
     "data": {
      "text/plain": "[Text(0.5, 1.0, 'Boxplot Duration')]"
     },
     "execution_count": 32,
     "metadata": {},
     "output_type": "execute_result"
    },
    {
     "data": {
      "text/plain": "<Figure size 864x576 with 1 Axes>",
      "image/png": "[encoded data removed]"
     },
     "metadata": {},
     "output_type": "display_data"
    }
   ],
   "source": [
    "sns.boxplot(x=\"duration\", data=df_graph,color=\"red\").set(title=\"Boxplot Duration\")"
   ],
   "metadata": {
    "collapsed": false,
    "pycharm": {
     "name": "#%%\n"
    }
   }
  },
  {
   "cell_type": "code",
   "execution_count": 33,
   "outputs": [
    {
     "name": "stdout",
     "output_type": "stream",
     "text": [
      "+---------+---------------+\n",
      "|days_left|Count_days_left|\n",
      "+---------+---------------+\n",
      "|       25|           6633|\n",
      "|       18|           6602|\n",
      "|       39|           6593|\n",
      "|       32|           6585|\n",
      "|       26|           6573|\n",
      "|       24|           6541|\n",
      "|       19|           6537|\n",
      "|       31|           6534|\n",
      "|       33|           6532|\n",
      "|       40|           6531|\n",
      "|       41|           6524|\n",
      "|       28|           6520|\n",
      "|       38|           6511|\n",
      "|       20|           6501|\n",
      "|       30|           6501|\n",
      "|       42|           6495|\n",
      "|       22|           6493|\n",
      "|       36|           6490|\n",
      "|       21|           6477|\n",
      "|       37|           6476|\n",
      "|       43|           6472|\n",
      "|       44|           6435|\n",
      "|       17|           6417|\n",
      "|       11|           6415|\n",
      "|       34|           6411|\n",
      "|       13|           6402|\n",
      "|       23|           6401|\n",
      "|       29|           6396|\n",
      "|       12|           6381|\n",
      "|       27|           6359|\n",
      "|       14|           6345|\n",
      "|       15|           6338|\n",
      "|       45|           6313|\n",
      "|       35|           6289|\n",
      "|       16|           6271|\n",
      "|       46|           6159|\n",
      "|       49|           6152|\n",
      "|       48|           6076|\n",
      "|       47|           6066|\n",
      "|       10|           5820|\n",
      "|        8|           5766|\n",
      "|        6|           5737|\n",
      "|        7|           5699|\n",
      "|        9|           5662|\n",
      "|        5|           5392|\n",
      "|        4|           5076|\n",
      "|        3|           4246|\n",
      "|        2|           4019|\n",
      "|        1|           1921|\n",
      "+---------+---------------+\n",
      "\n"
     ]
    },
    {
     "data": {
      "text/plain": "<AxesSubplot:xlabel='days_left', ylabel='Count'>"
     },
     "execution_count": 33,
     "metadata": {},
     "output_type": "execute_result"
    },
    {
     "data": {
      "text/plain": "<Figure size 864x576 with 1 Axes>",
      "image/png": "[encoded data removed]"
     },
     "metadata": {},
     "output_type": "display_data"
    }
   ],
   "source": [
    "df.groupby('days_left').count().withColumnRenamed(\"count\",\"Count_days_left\").sort(desc(\"count\")).show(50)\n",
    "sns.histplot(data=df_graph, x=\"days_left\",color=\"green\",binwidth=0.5)"
   ],
   "metadata": {
    "collapsed": false,
    "pycharm": {
     "name": "#%%\n"
    }
   }
  },
  {
   "cell_type": "code",
   "execution_count": 34,
   "outputs": [
    {
     "data": {
      "text/plain": "[Text(0.5, 1.0, 'Boxplot Days_left')]"
     },
     "execution_count": 34,
     "metadata": {},
     "output_type": "execute_result"
    },
    {
     "data": {
      "text/plain": "<Figure size 864x576 with 1 Axes>",
      "image/png": "[encoded data removed]"
     },
     "metadata": {},
     "output_type": "display_data"
    }
   ],
   "source": [
    "sns.boxplot(x=\"days_left\", data=df_graph,color=\"green\").set(title=\"Boxplot Days_left\")"
   ],
   "metadata": {
    "collapsed": false,
    "pycharm": {
     "name": "#%%\n"
    }
   }
  },
  {
   "cell_type": "code",
   "execution_count": 35,
   "outputs": [
    {
     "name": "stdout",
     "output_type": "stream",
     "text": [
      "+----------+----------------+\n",
      "|Price_in_K|Count_Price_in_K|\n",
      "+----------+----------------+\n",
      "|         6|           38102|\n",
      "|         4|           32587|\n",
      "|         5|           30562|\n",
      "|         7|           17980|\n",
      "|         2|           16445|\n",
      "|         3|           16130|\n",
      "|         8|           11305|\n",
      "|        11|            7602|\n",
      "|        52|            6517|\n",
      "|        10|            6468|\n",
      "|         9|            6420|\n",
      "|        12|            6077|\n",
      "|        55|            5795|\n",
      "|        50|            5147|\n",
      "|        57|            4371|\n",
      "|        13|            4116|\n",
      "|        60|            3858|\n",
      "|        61|            3634|\n",
      "|        14|            3429|\n",
      "|        58|            3289|\n",
      "+----------+----------------+\n",
      "only showing top 20 rows\n",
      "\n"
     ]
    },
    {
     "data": {
      "text/plain": "<AxesSubplot:xlabel='Price_in_K', ylabel='Count'>"
     },
     "execution_count": 35,
     "metadata": {},
     "output_type": "execute_result"
    },
    {
     "data": {
      "text/plain": "<Figure size 864x576 with 1 Axes>",
      "image/png": "[encoded data removed]"
     },
     "metadata": {},
     "output_type": "display_data"
    }
   ],
   "source": [
    "df.groupby(\"Price_in_K\").count().withColumnRenamed(\"count\",\"Count_Price_in_K\").sort(desc(\"count\")).show()\n",
    "sns.histplot(data=df_graph, x=\"Price_in_K\",color=\"yellow\",binwidth=1)"
   ],
   "metadata": {
    "collapsed": false,
    "pycharm": {
     "name": "#%%\n"
    }
   }
  },
  {
   "cell_type": "code",
   "execution_count": 36,
   "outputs": [
    {
     "data": {
      "text/plain": "[Text(0.5, 1.0, 'Price_in_K')]"
     },
     "execution_count": 36,
     "metadata": {},
     "output_type": "execute_result"
    },
    {
     "data": {
      "text/plain": "<Figure size 864x576 with 1 Axes>",
      "image/png": "[encoded data removed]"
     },
     "metadata": {},
     "output_type": "display_data"
    }
   ],
   "source": [
    "sns.boxplot(x=\"Price_in_K\", data=df_graph,color=\"yellow\").set(title=\"Price_in_K\")"
   ],
   "metadata": {
    "collapsed": false,
    "pycharm": {
     "name": "#%%\n"
    }
   }
  },
  {
   "cell_type": "code",
   "execution_count": 37,
   "outputs": [
    {
     "data": {
      "text/plain": "99"
     },
     "execution_count": 37,
     "metadata": {},
     "output_type": "execute_result"
    }
   ],
   "source": [
    "df.select(\"Price_in_K\").where(df.Price_in_K > 100).count()"
   ],
   "metadata": {
    "collapsed": false,
    "pycharm": {
     "name": "#%%\n"
    }
   }
  },
  {
   "cell_type": "code",
   "execution_count": 38,
   "outputs": [
    {
     "data": {
      "text/plain": "0"
     },
     "execution_count": 38,
     "metadata": {},
     "output_type": "execute_result"
    },
    {
     "data": {
      "text/plain": "<Figure size 864x576 with 1 Axes>",
      "image/png": "[encoded data removed]"
     },
     "metadata": {},
     "output_type": "display_data"
    }
   ],
   "source": [
    "df = df.where(df.Price_in_K < 100)\n",
    "df_graph = df.toPandas()\n",
    "sns.histplot(data=df_graph, x=\"Price_in_K\", color=\"yellow\",binwidth=1)\n",
    "df.select(\"Price_in_K\").where(df.duration > 100).count()"
   ],
   "metadata": {
    "collapsed": false,
    "pycharm": {
     "name": "#%%\n"
    }
   }
  },
  {
   "cell_type": "code",
   "execution_count": 39,
   "outputs": [
    {
     "data": {
      "text/plain": "[Text(0.5, 1.0, 'Price_in_K')]"
     },
     "execution_count": 39,
     "metadata": {},
     "output_type": "execute_result"
    },
    {
     "data": {
      "text/plain": "<Figure size 864x576 with 1 Axes>",
      "image/png": "[encoded data removed]"
     },
     "metadata": {},
     "output_type": "display_data"
    }
   ],
   "source": [
    "sns.boxplot(x=\"Price_in_K\", data=df_graph,color=\"yellow\").set(title=\"Price_in_K\")"
   ],
   "metadata": {
    "collapsed": false,
    "pycharm": {
     "name": "#%%\n"
    }
   }
  },
  {
   "cell_type": "markdown",
   "source": [
    "## Graphs of Independent Variables versus Price"
   ],
   "metadata": {
    "collapsed": false,
    "pycharm": {
     "name": "#%% md\n"
    }
   }
  },
  {
   "cell_type": "code",
   "execution_count": 40,
   "outputs": [
    {
     "data": {
      "text/plain": "[Text(0.5, 1.0, 'Rapporto Prezzo/Airline')]"
     },
     "execution_count": 40,
     "metadata": {},
     "output_type": "execute_result"
    },
    {
     "data": {
      "text/plain": "<Figure size 864x576 with 1 Axes>",
      "image/png": "[encoded data removed]"
     },
     "metadata": {},
     "output_type": "display_data"
    }
   ],
   "source": [
    "sns.boxplot(x=\"airline\", y=\"Price_in_K\", data=df_graph).set(title=\"Rapporto Prezzo/Airline\")"
   ],
   "metadata": {
    "collapsed": false,
    "pycharm": {
     "name": "#%%\n"
    }
   }
  },
  {
   "cell_type": "code",
   "execution_count": 41,
   "outputs": [
    {
     "data": {
      "text/plain": "[Text(0.5, 1.0, 'Rapporto Prezzo/Source_City')]"
     },
     "execution_count": 41,
     "metadata": {},
     "output_type": "execute_result"
    },
    {
     "data": {
      "text/plain": "<Figure size 864x576 with 1 Axes>",
      "image/png": "[encoded data removed]"
     },
     "metadata": {},
     "output_type": "display_data"
    }
   ],
   "source": [
    "sns.boxplot(x=\"source_city\", y=\"Price_in_K\", data=df_graph).set(title=\"Rapporto Prezzo/Source_City\")"
   ],
   "metadata": {
    "collapsed": false,
    "pycharm": {
     "name": "#%%\n"
    }
   }
  },
  {
   "cell_type": "code",
   "execution_count": 42,
   "outputs": [
    {
     "data": {
      "text/plain": "[Text(0.5, 1.0, 'Rapporto Prezzo/Destination_city')]"
     },
     "execution_count": 42,
     "metadata": {},
     "output_type": "execute_result"
    },
    {
     "data": {
      "text/plain": "<Figure size 864x576 with 1 Axes>",
      "image/png": "[encoded data removed]"
     },
     "metadata": {},
     "output_type": "display_data"
    }
   ],
   "source": [
    "sns.boxplot(x=\"destination_city\", y=\"Price_in_K\", data=df_graph).set(title=\"Rapporto Prezzo/Destination_city\")"
   ],
   "metadata": {
    "collapsed": false,
    "pycharm": {
     "name": "#%%\n"
    }
   }
  },
  {
   "cell_type": "code",
   "execution_count": 43,
   "outputs": [
    {
     "data": {
      "text/plain": "[Text(0.5, 1.0, 'Rapporto Prezzo/Departure_Time')]"
     },
     "execution_count": 43,
     "metadata": {},
     "output_type": "execute_result"
    },
    {
     "data": {
      "text/plain": "<Figure size 864x576 with 1 Axes>",
      "image/png": "[encoded data removed]"
     },
     "metadata": {},
     "output_type": "display_data"
    }
   ],
   "source": [
    "sns.boxplot(x=\"departure_time\", y=\"Price_in_K\", data=df_graph).set(title=\"Rapporto Prezzo/Departure_Time\")"
   ],
   "metadata": {
    "collapsed": false,
    "pycharm": {
     "name": "#%%\n"
    }
   }
  },
  {
   "cell_type": "code",
   "execution_count": 44,
   "outputs": [
    {
     "data": {
      "text/plain": "[Text(0.5, 1.0, 'Rapporto Prezzo/Arrival_Time')]"
     },
     "execution_count": 44,
     "metadata": {},
     "output_type": "execute_result"
    },
    {
     "data": {
      "text/plain": "<Figure size 864x576 with 1 Axes>",
      "image/png": "[encoded data removed]"
     },
     "metadata": {},
     "output_type": "display_data"
    }
   ],
   "source": [
    "sns.boxplot(x=\"arrival_time\", y=\"Price_in_K\", data=df_graph).set(title=\"Rapporto Prezzo/Arrival_Time\")"
   ],
   "metadata": {
    "collapsed": false,
    "pycharm": {
     "name": "#%%\n"
    }
   }
  },
  {
   "cell_type": "code",
   "execution_count": 45,
   "outputs": [
    {
     "data": {
      "text/plain": "[Text(0.5, 1.0, 'Rapporto Prezzo/Stops')]"
     },
     "execution_count": 45,
     "metadata": {},
     "output_type": "execute_result"
    },
    {
     "data": {
      "text/plain": "<Figure size 864x576 with 1 Axes>",
      "image/png": "[encoded data removed]"
     },
     "metadata": {},
     "output_type": "display_data"
    }
   ],
   "source": [
    "sns.boxplot(x=\"stops\", y=\"Price_in_K\", data=df_graph).set(title=\"Rapporto Prezzo/Stops\")"
   ],
   "metadata": {
    "collapsed": false,
    "pycharm": {
     "name": "#%%\n"
    }
   }
  },
  {
   "cell_type": "code",
   "execution_count": 46,
   "outputs": [
    {
     "data": {
      "text/plain": "[Text(0.5, 1.0, 'Rapporto Prezzo/Class')]"
     },
     "execution_count": 46,
     "metadata": {},
     "output_type": "execute_result"
    },
    {
     "data": {
      "text/plain": "<Figure size 864x576 with 1 Axes>",
      "image/png": "[encoded data removed]"
     },
     "metadata": {},
     "output_type": "display_data"
    }
   ],
   "source": [
    "sns.boxplot(x=\"class\", y=\"Price_in_K\", data=df_graph).set(title=\"Rapporto Prezzo/Class\")"
   ],
   "metadata": {
    "collapsed": false,
    "pycharm": {
     "name": "#%%\n"
    }
   }
  },
  {
   "cell_type": "code",
   "execution_count": 47,
   "outputs": [
    {
     "data": {
      "text/plain": "[Text(0.5, 1.0, 'Rapporto Prezzo/Duration')]"
     },
     "execution_count": 47,
     "metadata": {},
     "output_type": "execute_result"
    },
    {
     "data": {
      "text/plain": "<Figure size 864x576 with 1 Axes>",
      "image/png": "[encoded data removed]"
     },
     "metadata": {},
     "output_type": "display_data"
    }
   ],
   "source": [
    "sns.boxplot(x=\"duration\", y=\"Price_in_K\", data=df_graph).set(title=\"Rapporto Prezzo/Duration\")"
   ],
   "metadata": {
    "collapsed": false,
    "pycharm": {
     "name": "#%%\n"
    }
   }
  },
  {
   "cell_type": "code",
   "execution_count": 48,
   "outputs": [
    {
     "data": {
      "text/plain": "[Text(0.5, 1.0, 'Rapporto Prezzo/Days_left')]"
     },
     "execution_count": 48,
     "metadata": {},
     "output_type": "execute_result"
    },
    {
     "data": {
      "text/plain": "<Figure size 864x576 with 1 Axes>",
      "image/png": "[encoded data removed]"
     },
     "metadata": {},
     "output_type": "display_data"
    }
   ],
   "source": [
    "sns.boxplot(x=\"days_left\", y=\"Price_in_K\", data=df_graph).set(title=\"Rapporto Prezzo/Days_left\")"
   ],
   "metadata": {
    "collapsed": false,
    "pycharm": {
     "name": "#%%\n"
    }
   }
  },
  {
   "cell_type": "markdown",
   "source": [
    "# Data Transformation :"
   ],
   "metadata": {
    "collapsed": false,
    "pycharm": {
     "name": "#%% md\n"
    }
   }
  },
  {
   "cell_type": "markdown",
   "source": [
    "## Scaling of Quantitative Variables"
   ],
   "metadata": {
    "collapsed": false,
    "pycharm": {
     "name": "#%% md\n"
    }
   }
  },
  {
   "cell_type": "code",
   "execution_count": 49,
   "outputs": [
    {
     "name": "stdout",
     "output_type": "stream",
     "text": [
      "root\n",
      " |-- airline: string (nullable = true)\n",
      " |-- source_city: string (nullable = true)\n",
      " |-- departure_time: string (nullable = true)\n",
      " |-- stops: string (nullable = true)\n",
      " |-- arrival_time: string (nullable = true)\n",
      " |-- destination_city: string (nullable = true)\n",
      " |-- class: string (nullable = true)\n",
      " |-- duration: integer (nullable = true)\n",
      " |-- days_left: integer (nullable = true)\n",
      " |-- Price_in_K: integer (nullable = true)\n",
      "\n"
     ]
    }
   ],
   "source": [
    "df.printSchema()"
   ],
   "metadata": {
    "collapsed": false,
    "pycharm": {
     "name": "#%%\n"
    }
   }
  },
  {
   "cell_type": "code",
   "execution_count": 50,
   "outputs": [],
   "source": [
    "#Presenza di Outliers e Distribuzione Non Normale = RobustScaler\n",
    "assemblers1 =  [VectorAssembler(inputCols=[\"duration\"], outputCol=\"duration_vec\")]"
   ],
   "metadata": {
    "collapsed": false,
    "pycharm": {
     "name": "#%%\n"
    }
   }
  },
  {
   "cell_type": "code",
   "execution_count": 51,
   "outputs": [
    {
     "name": "stdout",
     "output_type": "stream",
     "text": [
      "+---------+-----------+--------------+-----+-------------+----------------+-------+--------+---------+----------+------------+--------------------+\n",
      "|  airline|source_city|departure_time|stops| arrival_time|destination_city|  class|duration|days_left|Price_in_K|duration_vec|     duration_robust|\n",
      "+---------+-----------+--------------+-----+-------------+----------------+-------+--------+---------+----------+------------+--------------------+\n",
      "|Air_India|      Delhi|         Night|  one|      Morning|          Mumbai|Economy|      11|        3|        12|      [11.0]| [1.222222222222222]|\n",
      "|Air_India|      Delhi| Early_Morning|  one|    Afternoon|          Mumbai|Economy|       9|        4|        12|       [9.0]|               [1.0]|\n",
      "|   Indigo|      Delhi|       Evening| zero|        Night|          Mumbai|Economy|       2|        7|         6|       [2.0]|[0.2222222222222222]|\n",
      "|   Indigo|      Delhi|       Morning| zero|      Morning|          Mumbai|Economy|       2|        7|         7|       [2.0]|[0.2222222222222222]|\n",
      "|Air_India|      Delhi|       Morning|  one|        Night|          Mumbai|Economy|      11|       10|        15|      [11.0]| [1.222222222222222]|\n",
      "|  Vistara|      Delhi|       Evening| zero|        Night|          Mumbai|Economy|       2|       11|         6|       [2.0]|[0.2222222222222222]|\n",
      "|  AirAsia|      Delhi|       Evening|  one|Early_Morning|          Mumbai|Economy|      15|       11|        10|      [15.0]|[1.6666666666666665]|\n",
      "|   Indigo|      Delhi| Early_Morning|  one|      Morning|          Mumbai|Economy|       5|       11|        11|       [5.0]|[0.5555555555555556]|\n",
      "|  Vistara|      Delhi|     Afternoon| zero|      Evening|          Mumbai|Economy|       2|       12|         6|       [2.0]|[0.2222222222222222]|\n",
      "|  Vistara|      Delhi|       Morning|  one|        Night|          Mumbai|Economy|      12|       14|        12|      [12.0]|[1.3333333333333333]|\n",
      "|   Indigo|      Delhi|       Evening| zero|      Evening|          Mumbai|Economy|       2|       16|         3|       [2.0]|[0.2222222222222222]|\n",
      "|  AirAsia|      Delhi|       Evening|  one|   Late_Night|          Mumbai|Economy|       9|       17|         5|       [9.0]|               [1.0]|\n",
      "|  Vistara|      Delhi|       Evening|  one|      Morning|          Mumbai|Economy|      12|       17|         6|      [12.0]|[1.3333333333333333]|\n",
      "| SpiceJet|      Delhi|       Evening| zero|        Night|          Mumbai|Economy|       2|       18|         3|       [2.0]|[0.2222222222222222]|\n",
      "| GO_FIRST|      Delhi| Early_Morning| zero|      Morning|          Mumbai|Economy|       2|       19|         2|       [2.0]|[0.2222222222222222]|\n",
      "|  AirAsia|      Delhi|         Night|  one|    Afternoon|          Mumbai|Economy|      14|       19|         2|      [14.0]|[1.5555555555555554]|\n",
      "|  Vistara|      Delhi|         Night|  one|      Morning|          Mumbai|Economy|      12|       19|         6|      [12.0]|[1.3333333333333333]|\n",
      "|Air_India|      Delhi|       Evening|  one|      Morning|          Mumbai|Economy|      16|       20|         4|      [16.0]|[1.7777777777777777]|\n",
      "|  Vistara|      Delhi|       Evening|  one|        Night|          Mumbai|Economy|       4|       21|        10|       [4.0]|[0.4444444444444444]|\n",
      "|  Vistara|      Delhi|       Morning| zero|    Afternoon|          Mumbai|Economy|       2|       23|         3|       [2.0]|[0.2222222222222222]|\n",
      "+---------+-----------+--------------+-----+-------------+----------------+-------+--------+---------+----------+------------+--------------------+\n",
      "only showing top 20 rows\n",
      "\n"
     ]
    }
   ],
   "source": [
    "robust_scaler = [RobustScaler(inputCol=\"duration_vec\", outputCol=\"duration_robust\")]\n",
    "pipeline = Pipeline(stages=assemblers1+robust_scaler)\n",
    "pipe = pipeline.fit(df)\n",
    "scaled = pipe.transform(df)\n",
    "scaled.show()"
   ],
   "metadata": {
    "collapsed": false,
    "pycharm": {
     "name": "#%%\n"
    }
   }
  },
  {
   "cell_type": "code",
   "execution_count": 52,
   "outputs": [],
   "source": [
    "#Assenza di Outliers e Distribuzione Non Normale = MinMaxScaling\n",
    "assemblers2 =  [VectorAssembler(inputCols=[\"days_left\"], outputCol=\"days_left_vec\")]"
   ],
   "metadata": {
    "collapsed": false,
    "pycharm": {
     "name": "#%%\n"
    }
   }
  },
  {
   "cell_type": "code",
   "execution_count": 53,
   "outputs": [
    {
     "name": "stdout",
     "output_type": "stream",
     "text": [
      "+---------+-----------+--------------+-----+-------------+----------------+-------+--------+---------+----------+------------+-------------+--------------------+--------------------+\n",
      "|  airline|source_city|departure_time|stops| arrival_time|destination_city|  class|duration|days_left|Price_in_K|duration_vec|days_left_vec|     duration_robust|    days_left_minmax|\n",
      "+---------+-----------+--------------+-----+-------------+----------------+-------+--------+---------+----------+------------+-------------+--------------------+--------------------+\n",
      "|Air_India|      Delhi|         Night|  one|      Morning|          Mumbai|Economy|      11|        3|        12|      [11.0]|        [3.0]| [1.222222222222222]|[0.04166666666666...|\n",
      "|Air_India|      Delhi| Early_Morning|  one|    Afternoon|          Mumbai|Economy|       9|        4|        12|       [9.0]|        [4.0]|               [1.0]|            [0.0625]|\n",
      "|   Indigo|      Delhi|       Evening| zero|        Night|          Mumbai|Economy|       2|        7|         6|       [2.0]|        [7.0]|[0.2222222222222222]|             [0.125]|\n",
      "|   Indigo|      Delhi|       Morning| zero|      Morning|          Mumbai|Economy|       2|        7|         7|       [2.0]|        [7.0]|[0.2222222222222222]|             [0.125]|\n",
      "|Air_India|      Delhi|       Morning|  one|        Night|          Mumbai|Economy|      11|       10|        15|      [11.0]|       [10.0]| [1.222222222222222]|            [0.1875]|\n",
      "|  Vistara|      Delhi|       Evening| zero|        Night|          Mumbai|Economy|       2|       11|         6|       [2.0]|       [11.0]|[0.2222222222222222]|[0.20833333333333...|\n",
      "|  AirAsia|      Delhi|       Evening|  one|Early_Morning|          Mumbai|Economy|      15|       11|        10|      [15.0]|       [11.0]|[1.6666666666666665]|[0.20833333333333...|\n",
      "|   Indigo|      Delhi| Early_Morning|  one|      Morning|          Mumbai|Economy|       5|       11|        11|       [5.0]|       [11.0]|[0.5555555555555556]|[0.20833333333333...|\n",
      "|  Vistara|      Delhi|     Afternoon| zero|      Evening|          Mumbai|Economy|       2|       12|         6|       [2.0]|       [12.0]|[0.2222222222222222]|[0.22916666666666...|\n",
      "|  Vistara|      Delhi|       Morning|  one|        Night|          Mumbai|Economy|      12|       14|        12|      [12.0]|       [14.0]|[1.3333333333333333]|[0.2708333333333333]|\n",
      "|   Indigo|      Delhi|       Evening| zero|      Evening|          Mumbai|Economy|       2|       16|         3|       [2.0]|       [16.0]|[0.2222222222222222]|            [0.3125]|\n",
      "|  AirAsia|      Delhi|       Evening|  one|   Late_Night|          Mumbai|Economy|       9|       17|         5|       [9.0]|       [17.0]|               [1.0]|[0.3333333333333333]|\n",
      "|  Vistara|      Delhi|       Evening|  one|      Morning|          Mumbai|Economy|      12|       17|         6|      [12.0]|       [17.0]|[1.3333333333333333]|[0.3333333333333333]|\n",
      "| SpiceJet|      Delhi|       Evening| zero|        Night|          Mumbai|Economy|       2|       18|         3|       [2.0]|       [18.0]|[0.2222222222222222]|[0.35416666666666...|\n",
      "| GO_FIRST|      Delhi| Early_Morning| zero|      Morning|          Mumbai|Economy|       2|       19|         2|       [2.0]|       [19.0]|[0.2222222222222222]|             [0.375]|\n",
      "|  AirAsia|      Delhi|         Night|  one|    Afternoon|          Mumbai|Economy|      14|       19|         2|      [14.0]|       [19.0]|[1.5555555555555554]|             [0.375]|\n",
      "|  Vistara|      Delhi|         Night|  one|      Morning|          Mumbai|Economy|      12|       19|         6|      [12.0]|       [19.0]|[1.3333333333333333]|             [0.375]|\n",
      "|Air_India|      Delhi|       Evening|  one|      Morning|          Mumbai|Economy|      16|       20|         4|      [16.0]|       [20.0]|[1.7777777777777777]|[0.3958333333333333]|\n",
      "|  Vistara|      Delhi|       Evening|  one|        Night|          Mumbai|Economy|       4|       21|        10|       [4.0]|       [21.0]|[0.4444444444444444]|[0.41666666666666...|\n",
      "|  Vistara|      Delhi|       Morning| zero|    Afternoon|          Mumbai|Economy|       2|       23|         3|       [2.0]|       [23.0]|[0.2222222222222222]|[0.4583333333333333]|\n",
      "+---------+-----------+--------------+-----+-------------+----------------+-------+--------+---------+----------+------------+-------------+--------------------+--------------------+\n",
      "only showing top 20 rows\n",
      "\n"
     ]
    }
   ],
   "source": [
    "minmax_scaler = [MinMaxScaler(inputCol=\"days_left_vec\", outputCol=\"days_left_minmax\")]\n",
    "pipeline = Pipeline(stages=assemblers1+assemblers2+robust_scaler+minmax_scaler)\n",
    "pipe = pipeline.fit(df)\n",
    "scaled_df = pipe.transform(df)\n",
    "scaled_df.show()"
   ],
   "metadata": {
    "collapsed": false,
    "pycharm": {
     "name": "#%%\n"
    }
   }
  },
  {
   "cell_type": "code",
   "execution_count": 54,
   "outputs": [
    {
     "name": "stdout",
     "output_type": "stream",
     "text": [
      "+---------+-----------+--------------+-----+-------------+----------------+-------+----------+--------------------+--------------------+\n",
      "|  airline|source_city|departure_time|stops| arrival_time|destination_city|  class|Price_in_K|     duration_robust|    days_left_minmax|\n",
      "+---------+-----------+--------------+-----+-------------+----------------+-------+----------+--------------------+--------------------+\n",
      "|Air_India|      Delhi|         Night|  one|      Morning|          Mumbai|Economy|        12| [1.222222222222222]|[0.04166666666666...|\n",
      "|Air_India|      Delhi| Early_Morning|  one|    Afternoon|          Mumbai|Economy|        12|               [1.0]|            [0.0625]|\n",
      "|   Indigo|      Delhi|       Evening| zero|        Night|          Mumbai|Economy|         6|[0.2222222222222222]|             [0.125]|\n",
      "|   Indigo|      Delhi|       Morning| zero|      Morning|          Mumbai|Economy|         7|[0.2222222222222222]|             [0.125]|\n",
      "|Air_India|      Delhi|       Morning|  one|        Night|          Mumbai|Economy|        15| [1.222222222222222]|            [0.1875]|\n",
      "|  Vistara|      Delhi|       Evening| zero|        Night|          Mumbai|Economy|         6|[0.2222222222222222]|[0.20833333333333...|\n",
      "|  AirAsia|      Delhi|       Evening|  one|Early_Morning|          Mumbai|Economy|        10|[1.6666666666666665]|[0.20833333333333...|\n",
      "|   Indigo|      Delhi| Early_Morning|  one|      Morning|          Mumbai|Economy|        11|[0.5555555555555556]|[0.20833333333333...|\n",
      "|  Vistara|      Delhi|     Afternoon| zero|      Evening|          Mumbai|Economy|         6|[0.2222222222222222]|[0.22916666666666...|\n",
      "|  Vistara|      Delhi|       Morning|  one|        Night|          Mumbai|Economy|        12|[1.3333333333333333]|[0.2708333333333333]|\n",
      "|   Indigo|      Delhi|       Evening| zero|      Evening|          Mumbai|Economy|         3|[0.2222222222222222]|            [0.3125]|\n",
      "|  AirAsia|      Delhi|       Evening|  one|   Late_Night|          Mumbai|Economy|         5|               [1.0]|[0.3333333333333333]|\n",
      "|  Vistara|      Delhi|       Evening|  one|      Morning|          Mumbai|Economy|         6|[1.3333333333333333]|[0.3333333333333333]|\n",
      "| SpiceJet|      Delhi|       Evening| zero|        Night|          Mumbai|Economy|         3|[0.2222222222222222]|[0.35416666666666...|\n",
      "| GO_FIRST|      Delhi| Early_Morning| zero|      Morning|          Mumbai|Economy|         2|[0.2222222222222222]|             [0.375]|\n",
      "|  AirAsia|      Delhi|         Night|  one|    Afternoon|          Mumbai|Economy|         2|[1.5555555555555554]|             [0.375]|\n",
      "|  Vistara|      Delhi|         Night|  one|      Morning|          Mumbai|Economy|         6|[1.3333333333333333]|             [0.375]|\n",
      "|Air_India|      Delhi|       Evening|  one|      Morning|          Mumbai|Economy|         4|[1.7777777777777777]|[0.3958333333333333]|\n",
      "|  Vistara|      Delhi|       Evening|  one|        Night|          Mumbai|Economy|        10|[0.4444444444444444]|[0.41666666666666...|\n",
      "|  Vistara|      Delhi|       Morning| zero|    Afternoon|          Mumbai|Economy|         3|[0.2222222222222222]|[0.4583333333333333]|\n",
      "+---------+-----------+--------------+-----+-------------+----------------+-------+----------+--------------------+--------------------+\n",
      "only showing top 20 rows\n",
      "\n"
     ]
    }
   ],
   "source": [
    "scaled_df= scaled_df.drop(\"duration\")\n",
    "scaled_df=scaled_df.drop(\"duration_vec\")\n",
    "scaled_df=scaled_df.drop(\"days_left\")\n",
    "scaled_df=scaled_df.drop(\"days_left_vec\")\n",
    "scaled_df.show()"
   ],
   "metadata": {
    "collapsed": false,
    "pycharm": {
     "name": "#%%\n"
    }
   }
  },
  {
   "cell_type": "markdown",
   "source": [
    "## One Hot Encoding of Nominal Qualitative Variables"
   ],
   "metadata": {
    "collapsed": false,
    "pycharm": {
     "name": "#%% md\n"
    }
   }
  },
  {
   "cell_type": "code",
   "execution_count": 55,
   "outputs": [
    {
     "name": "stdout",
     "output_type": "stream",
     "text": [
      "root\n",
      " |-- airline: string (nullable = true)\n",
      " |-- source_city: string (nullable = true)\n",
      " |-- departure_time: string (nullable = true)\n",
      " |-- stops: string (nullable = true)\n",
      " |-- arrival_time: string (nullable = true)\n",
      " |-- destination_city: string (nullable = true)\n",
      " |-- class: string (nullable = true)\n",
      " |-- Price_in_K: integer (nullable = true)\n",
      " |-- duration_robust: vector (nullable = true)\n",
      " |-- days_left_minmax: vector (nullable = true)\n",
      "\n"
     ]
    }
   ],
   "source": [
    "scaled_df.printSchema()"
   ],
   "metadata": {
    "collapsed": false,
    "pycharm": {
     "name": "#%%\n"
    }
   }
  },
  {
   "cell_type": "code",
   "execution_count": 56,
   "outputs": [],
   "source": [
    "indexer = StringIndexer(inputCols=('airline','source_city',\"departure_time\",\"stops\",\"arrival_time\",\"destination_city\",\"class\"),\n",
    "                        outputCols=('airlineNDX', 'source_cityNDX',\"departure_timeNDX\",\"stopsNDX\",\"arrival_timeNDX\",\"destination_cityNDX\",\"classNDX\"))"
   ],
   "metadata": {
    "collapsed": false,
    "pycharm": {
     "name": "#%%\n"
    }
   }
  },
  {
   "cell_type": "code",
   "execution_count": 57,
   "outputs": [
    {
     "name": "stdout",
     "output_type": "stream",
     "text": [
      "+---------+-----------+--------------+-----+-------------+----------------+-------+----------+--------------------+--------------------+----------+--------------+-----------------+--------+---------------+-------------------+--------+\n",
      "|  airline|source_city|departure_time|stops| arrival_time|destination_city|  class|Price_in_K|     duration_robust|    days_left_minmax|airlineNDX|source_cityNDX|departure_timeNDX|stopsNDX|arrival_timeNDX|destination_cityNDX|classNDX|\n",
      "+---------+-----------+--------------+-----+-------------+----------------+-------+----------+--------------------+--------------------+----------+--------------+-----------------+--------+---------------+-------------------+--------+\n",
      "|Air_India|      Delhi|         Night|  one|      Morning|          Mumbai|Economy|        12| [1.222222222222222]|[0.04166666666666...|       1.0|           0.0|              3.0|     0.0|            2.0|                0.0|     0.0|\n",
      "|Air_India|      Delhi| Early_Morning|  one|    Afternoon|          Mumbai|Economy|        12|               [1.0]|            [0.0625]|       1.0|           0.0|              1.0|     0.0|            3.0|                0.0|     0.0|\n",
      "|   Indigo|      Delhi|       Evening| zero|        Night|          Mumbai|Economy|         6|[0.2222222222222222]|             [0.125]|       2.0|           0.0|              2.0|     1.0|            0.0|                0.0|     0.0|\n",
      "|   Indigo|      Delhi|       Morning| zero|      Morning|          Mumbai|Economy|         7|[0.2222222222222222]|             [0.125]|       2.0|           0.0|              0.0|     1.0|            2.0|                0.0|     0.0|\n",
      "|Air_India|      Delhi|       Morning|  one|        Night|          Mumbai|Economy|        15| [1.222222222222222]|            [0.1875]|       1.0|           0.0|              0.0|     0.0|            0.0|                0.0|     0.0|\n",
      "|  Vistara|      Delhi|       Evening| zero|        Night|          Mumbai|Economy|         6|[0.2222222222222222]|[0.20833333333333...|       0.0|           0.0|              2.0|     1.0|            0.0|                0.0|     0.0|\n",
      "|  AirAsia|      Delhi|       Evening|  one|Early_Morning|          Mumbai|Economy|        10|[1.6666666666666665]|[0.20833333333333...|       4.0|           0.0|              2.0|     0.0|            4.0|                0.0|     0.0|\n",
      "|   Indigo|      Delhi| Early_Morning|  one|      Morning|          Mumbai|Economy|        11|[0.5555555555555556]|[0.20833333333333...|       2.0|           0.0|              1.0|     0.0|            2.0|                0.0|     0.0|\n",
      "|  Vistara|      Delhi|     Afternoon| zero|      Evening|          Mumbai|Economy|         6|[0.2222222222222222]|[0.22916666666666...|       0.0|           0.0|              4.0|     1.0|            1.0|                0.0|     0.0|\n",
      "|  Vistara|      Delhi|       Morning|  one|        Night|          Mumbai|Economy|        12|[1.3333333333333333]|[0.2708333333333333]|       0.0|           0.0|              0.0|     0.0|            0.0|                0.0|     0.0|\n",
      "|   Indigo|      Delhi|       Evening| zero|      Evening|          Mumbai|Economy|         3|[0.2222222222222222]|            [0.3125]|       2.0|           0.0|              2.0|     1.0|            1.0|                0.0|     0.0|\n",
      "|  AirAsia|      Delhi|       Evening|  one|   Late_Night|          Mumbai|Economy|         5|               [1.0]|[0.3333333333333333]|       4.0|           0.0|              2.0|     0.0|            5.0|                0.0|     0.0|\n",
      "|  Vistara|      Delhi|       Evening|  one|      Morning|          Mumbai|Economy|         6|[1.3333333333333333]|[0.3333333333333333]|       0.0|           0.0|              2.0|     0.0|            2.0|                0.0|     0.0|\n",
      "| SpiceJet|      Delhi|       Evening| zero|        Night|          Mumbai|Economy|         3|[0.2222222222222222]|[0.35416666666666...|       5.0|           0.0|              2.0|     1.0|            0.0|                0.0|     0.0|\n",
      "| GO_FIRST|      Delhi| Early_Morning| zero|      Morning|          Mumbai|Economy|         2|[0.2222222222222222]|             [0.375]|       3.0|           0.0|              1.0|     1.0|            2.0|                0.0|     0.0|\n",
      "|  AirAsia|      Delhi|         Night|  one|    Afternoon|          Mumbai|Economy|         2|[1.5555555555555554]|             [0.375]|       4.0|           0.0|              3.0|     0.0|            3.0|                0.0|     0.0|\n",
      "|  Vistara|      Delhi|         Night|  one|      Morning|          Mumbai|Economy|         6|[1.3333333333333333]|             [0.375]|       0.0|           0.0|              3.0|     0.0|            2.0|                0.0|     0.0|\n",
      "|Air_India|      Delhi|       Evening|  one|      Morning|          Mumbai|Economy|         4|[1.7777777777777777]|[0.3958333333333333]|       1.0|           0.0|              2.0|     0.0|            2.0|                0.0|     0.0|\n",
      "|  Vistara|      Delhi|       Evening|  one|        Night|          Mumbai|Economy|        10|[0.4444444444444444]|[0.41666666666666...|       0.0|           0.0|              2.0|     0.0|            0.0|                0.0|     0.0|\n",
      "|  Vistara|      Delhi|       Morning| zero|    Afternoon|          Mumbai|Economy|         3|[0.2222222222222222]|[0.4583333333333333]|       0.0|           0.0|              0.0|     1.0|            3.0|                0.0|     0.0|\n",
      "+---------+-----------+--------------+-----+-------------+----------------+-------+----------+--------------------+--------------------+----------+--------------+-----------------+--------+---------------+-------------------+--------+\n",
      "only showing top 20 rows\n",
      "\n"
     ]
    }
   ],
   "source": [
    "indexed = indexer.fit(scaled_df).transform(scaled_df)\n",
    "indexed.show()"
   ],
   "metadata": {
    "collapsed": false,
    "pycharm": {
     "name": "#%%\n"
    }
   }
  },
  {
   "cell_type": "code",
   "execution_count": 58,
   "outputs": [],
   "source": [
    "encoder = OneHotEncoder(inputCols= (\"airlineNDX\",\"source_cityNDX\",\"departure_timeNDX\",\"stopsNDX\",\"arrival_timeNDX\",\"destination_cityNDX\",\"classNDX\"),outputCols=('airlineENC','source_cityENC',\"departure_timeENC\",\"stopsENC\",\"arrival_timeENC\",\"destination_cityENC\",\"classENC\"))"
   ],
   "metadata": {
    "collapsed": false,
    "pycharm": {
     "name": "#%%\n"
    }
   }
  },
  {
   "cell_type": "code",
   "execution_count": 59,
   "outputs": [],
   "source": [
    "encoded_df = encoder.fit(indexed).transform(indexed)"
   ],
   "metadata": {
    "collapsed": false,
    "pycharm": {
     "name": "#%%\n"
    }
   }
  },
  {
   "cell_type": "code",
   "execution_count": 60,
   "outputs": [
    {
     "name": "stdout",
     "output_type": "stream",
     "text": [
      "+---------+-----------+--------------+-----+-------------+----------------+-------+----------+--------------------+--------------------+----------+--------------+-----------------+--------+---------------+-------------------+--------+-------------+--------------+-----------------+-------------+---------------+-------------------+-------------+\n",
      "|  airline|source_city|departure_time|stops| arrival_time|destination_city|  class|Price_in_K|     duration_robust|    days_left_minmax|airlineNDX|source_cityNDX|departure_timeNDX|stopsNDX|arrival_timeNDX|destination_cityNDX|classNDX|   airlineENC|source_cityENC|departure_timeENC|     stopsENC|arrival_timeENC|destination_cityENC|     classENC|\n",
      "+---------+-----------+--------------+-----+-------------+----------------+-------+----------+--------------------+--------------------+----------+--------------+-----------------+--------+---------------+-------------------+--------+-------------+--------------+-----------------+-------------+---------------+-------------------+-------------+\n",
      "|Air_India|      Delhi|         Night|  one|      Morning|          Mumbai|Economy|        12| [1.222222222222222]|[0.04166666666666...|       1.0|           0.0|              3.0|     0.0|            2.0|                0.0|     0.0|(5,[1],[1.0])| (5,[0],[1.0])|    (5,[3],[1.0])|(2,[0],[1.0])|  (5,[2],[1.0])|      (5,[0],[1.0])|(1,[0],[1.0])|\n",
      "|Air_India|      Delhi| Early_Morning|  one|    Afternoon|          Mumbai|Economy|        12|               [1.0]|            [0.0625]|       1.0|           0.0|              1.0|     0.0|            3.0|                0.0|     0.0|(5,[1],[1.0])| (5,[0],[1.0])|    (5,[1],[1.0])|(2,[0],[1.0])|  (5,[3],[1.0])|      (5,[0],[1.0])|(1,[0],[1.0])|\n",
      "|   Indigo|      Delhi|       Evening| zero|        Night|          Mumbai|Economy|         6|[0.2222222222222222]|             [0.125]|       2.0|           0.0|              2.0|     1.0|            0.0|                0.0|     0.0|(5,[2],[1.0])| (5,[0],[1.0])|    (5,[2],[1.0])|(2,[1],[1.0])|  (5,[0],[1.0])|      (5,[0],[1.0])|(1,[0],[1.0])|\n",
      "|   Indigo|      Delhi|       Morning| zero|      Morning|          Mumbai|Economy|         7|[0.2222222222222222]|             [0.125]|       2.0|           0.0|              0.0|     1.0|            2.0|                0.0|     0.0|(5,[2],[1.0])| (5,[0],[1.0])|    (5,[0],[1.0])|(2,[1],[1.0])|  (5,[2],[1.0])|      (5,[0],[1.0])|(1,[0],[1.0])|\n",
      "|Air_India|      Delhi|       Morning|  one|        Night|          Mumbai|Economy|        15| [1.222222222222222]|            [0.1875]|       1.0|           0.0|              0.0|     0.0|            0.0|                0.0|     0.0|(5,[1],[1.0])| (5,[0],[1.0])|    (5,[0],[1.0])|(2,[0],[1.0])|  (5,[0],[1.0])|      (5,[0],[1.0])|(1,[0],[1.0])|\n",
      "|  Vistara|      Delhi|       Evening| zero|        Night|          Mumbai|Economy|         6|[0.2222222222222222]|[0.20833333333333...|       0.0|           0.0|              2.0|     1.0|            0.0|                0.0|     0.0|(5,[0],[1.0])| (5,[0],[1.0])|    (5,[2],[1.0])|(2,[1],[1.0])|  (5,[0],[1.0])|      (5,[0],[1.0])|(1,[0],[1.0])|\n",
      "|  AirAsia|      Delhi|       Evening|  one|Early_Morning|          Mumbai|Economy|        10|[1.6666666666666665]|[0.20833333333333...|       4.0|           0.0|              2.0|     0.0|            4.0|                0.0|     0.0|(5,[4],[1.0])| (5,[0],[1.0])|    (5,[2],[1.0])|(2,[0],[1.0])|  (5,[4],[1.0])|      (5,[0],[1.0])|(1,[0],[1.0])|\n",
      "|   Indigo|      Delhi| Early_Morning|  one|      Morning|          Mumbai|Economy|        11|[0.5555555555555556]|[0.20833333333333...|       2.0|           0.0|              1.0|     0.0|            2.0|                0.0|     0.0|(5,[2],[1.0])| (5,[0],[1.0])|    (5,[1],[1.0])|(2,[0],[1.0])|  (5,[2],[1.0])|      (5,[0],[1.0])|(1,[0],[1.0])|\n",
      "|  Vistara|      Delhi|     Afternoon| zero|      Evening|          Mumbai|Economy|         6|[0.2222222222222222]|[0.22916666666666...|       0.0|           0.0|              4.0|     1.0|            1.0|                0.0|     0.0|(5,[0],[1.0])| (5,[0],[1.0])|    (5,[4],[1.0])|(2,[1],[1.0])|  (5,[1],[1.0])|      (5,[0],[1.0])|(1,[0],[1.0])|\n",
      "|  Vistara|      Delhi|       Morning|  one|        Night|          Mumbai|Economy|        12|[1.3333333333333333]|[0.2708333333333333]|       0.0|           0.0|              0.0|     0.0|            0.0|                0.0|     0.0|(5,[0],[1.0])| (5,[0],[1.0])|    (5,[0],[1.0])|(2,[0],[1.0])|  (5,[0],[1.0])|      (5,[0],[1.0])|(1,[0],[1.0])|\n",
      "|   Indigo|      Delhi|       Evening| zero|      Evening|          Mumbai|Economy|         3|[0.2222222222222222]|            [0.3125]|       2.0|           0.0|              2.0|     1.0|            1.0|                0.0|     0.0|(5,[2],[1.0])| (5,[0],[1.0])|    (5,[2],[1.0])|(2,[1],[1.0])|  (5,[1],[1.0])|      (5,[0],[1.0])|(1,[0],[1.0])|\n",
      "|  AirAsia|      Delhi|       Evening|  one|   Late_Night|          Mumbai|Economy|         5|               [1.0]|[0.3333333333333333]|       4.0|           0.0|              2.0|     0.0|            5.0|                0.0|     0.0|(5,[4],[1.0])| (5,[0],[1.0])|    (5,[2],[1.0])|(2,[0],[1.0])|      (5,[],[])|      (5,[0],[1.0])|(1,[0],[1.0])|\n",
      "|  Vistara|      Delhi|       Evening|  one|      Morning|          Mumbai|Economy|         6|[1.3333333333333333]|[0.3333333333333333]|       0.0|           0.0|              2.0|     0.0|            2.0|                0.0|     0.0|(5,[0],[1.0])| (5,[0],[1.0])|    (5,[2],[1.0])|(2,[0],[1.0])|  (5,[2],[1.0])|      (5,[0],[1.0])|(1,[0],[1.0])|\n",
      "| SpiceJet|      Delhi|       Evening| zero|        Night|          Mumbai|Economy|         3|[0.2222222222222222]|[0.35416666666666...|       5.0|           0.0|              2.0|     1.0|            0.0|                0.0|     0.0|    (5,[],[])| (5,[0],[1.0])|    (5,[2],[1.0])|(2,[1],[1.0])|  (5,[0],[1.0])|      (5,[0],[1.0])|(1,[0],[1.0])|\n",
      "| GO_FIRST|      Delhi| Early_Morning| zero|      Morning|          Mumbai|Economy|         2|[0.2222222222222222]|             [0.375]|       3.0|           0.0|              1.0|     1.0|            2.0|                0.0|     0.0|(5,[3],[1.0])| (5,[0],[1.0])|    (5,[1],[1.0])|(2,[1],[1.0])|  (5,[2],[1.0])|      (5,[0],[1.0])|(1,[0],[1.0])|\n",
      "|  AirAsia|      Delhi|         Night|  one|    Afternoon|          Mumbai|Economy|         2|[1.5555555555555554]|             [0.375]|       4.0|           0.0|              3.0|     0.0|            3.0|                0.0|     0.0|(5,[4],[1.0])| (5,[0],[1.0])|    (5,[3],[1.0])|(2,[0],[1.0])|  (5,[3],[1.0])|      (5,[0],[1.0])|(1,[0],[1.0])|\n",
      "|  Vistara|      Delhi|         Night|  one|      Morning|          Mumbai|Economy|         6|[1.3333333333333333]|             [0.375]|       0.0|           0.0|              3.0|     0.0|            2.0|                0.0|     0.0|(5,[0],[1.0])| (5,[0],[1.0])|    (5,[3],[1.0])|(2,[0],[1.0])|  (5,[2],[1.0])|      (5,[0],[1.0])|(1,[0],[1.0])|\n",
      "|Air_India|      Delhi|       Evening|  one|      Morning|          Mumbai|Economy|         4|[1.7777777777777777]|[0.3958333333333333]|       1.0|           0.0|              2.0|     0.0|            2.0|                0.0|     0.0|(5,[1],[1.0])| (5,[0],[1.0])|    (5,[2],[1.0])|(2,[0],[1.0])|  (5,[2],[1.0])|      (5,[0],[1.0])|(1,[0],[1.0])|\n",
      "|  Vistara|      Delhi|       Evening|  one|        Night|          Mumbai|Economy|        10|[0.4444444444444444]|[0.41666666666666...|       0.0|           0.0|              2.0|     0.0|            0.0|                0.0|     0.0|(5,[0],[1.0])| (5,[0],[1.0])|    (5,[2],[1.0])|(2,[0],[1.0])|  (5,[0],[1.0])|      (5,[0],[1.0])|(1,[0],[1.0])|\n",
      "|  Vistara|      Delhi|       Morning| zero|    Afternoon|          Mumbai|Economy|         3|[0.2222222222222222]|[0.4583333333333333]|       0.0|           0.0|              0.0|     1.0|            3.0|                0.0|     0.0|(5,[0],[1.0])| (5,[0],[1.0])|    (5,[0],[1.0])|(2,[1],[1.0])|  (5,[3],[1.0])|      (5,[0],[1.0])|(1,[0],[1.0])|\n",
      "+---------+-----------+--------------+-----+-------------+----------------+-------+----------+--------------------+--------------------+----------+--------------+-----------------+--------+---------------+-------------------+--------+-------------+--------------+-----------------+-------------+---------------+-------------------+-------------+\n",
      "only showing top 20 rows\n",
      "\n"
     ]
    }
   ],
   "source": [
    "encoded_df.show()"
   ],
   "metadata": {
    "collapsed": false,
    "pycharm": {
     "name": "#%%\n"
    }
   }
  },
  {
   "cell_type": "code",
   "execution_count": 61,
   "outputs": [
    {
     "name": "stdout",
     "output_type": "stream",
     "text": [
      "root\n",
      " |-- airline: string (nullable = true)\n",
      " |-- source_city: string (nullable = true)\n",
      " |-- departure_time: string (nullable = true)\n",
      " |-- stops: string (nullable = true)\n",
      " |-- arrival_time: string (nullable = true)\n",
      " |-- destination_city: string (nullable = true)\n",
      " |-- class: string (nullable = true)\n",
      " |-- Price_in_K: integer (nullable = true)\n",
      " |-- duration_robust: vector (nullable = true)\n",
      " |-- days_left_minmax: vector (nullable = true)\n",
      " |-- airlineNDX: double (nullable = false)\n",
      " |-- source_cityNDX: double (nullable = false)\n",
      " |-- departure_timeNDX: double (nullable = false)\n",
      " |-- stopsNDX: double (nullable = false)\n",
      " |-- arrival_timeNDX: double (nullable = false)\n",
      " |-- destination_cityNDX: double (nullable = false)\n",
      " |-- classNDX: double (nullable = false)\n",
      " |-- airlineENC: vector (nullable = true)\n",
      " |-- source_cityENC: vector (nullable = true)\n",
      " |-- departure_timeENC: vector (nullable = true)\n",
      " |-- stopsENC: vector (nullable = true)\n",
      " |-- arrival_timeENC: vector (nullable = true)\n",
      " |-- destination_cityENC: vector (nullable = true)\n",
      " |-- classENC: vector (nullable = true)\n",
      "\n"
     ]
    }
   ],
   "source": [
    "encoded_df.printSchema()"
   ],
   "metadata": {
    "collapsed": false,
    "pycharm": {
     "name": "#%%\n"
    }
   }
  },
  {
   "cell_type": "code",
   "execution_count": 62,
   "outputs": [],
   "source": [
    "enc_clean_df=encoded_df.drop(\"airline\",\"source_city\",\"departure_time\",\"stops\",\"arrival_time\",\"destination_city\",\"class\")"
   ],
   "metadata": {
    "collapsed": false,
    "pycharm": {
     "name": "#%%\n"
    }
   }
  },
  {
   "cell_type": "code",
   "execution_count": 63,
   "outputs": [
    {
     "name": "stdout",
     "output_type": "stream",
     "text": [
      "root\n",
      " |-- Price_in_K: integer (nullable = true)\n",
      " |-- duration_robust: vector (nullable = true)\n",
      " |-- days_left_minmax: vector (nullable = true)\n",
      " |-- airlineENC: vector (nullable = true)\n",
      " |-- source_cityENC: vector (nullable = true)\n",
      " |-- departure_timeENC: vector (nullable = true)\n",
      " |-- stopsENC: vector (nullable = true)\n",
      " |-- arrival_timeENC: vector (nullable = true)\n",
      " |-- destination_cityENC: vector (nullable = true)\n",
      " |-- classENC: vector (nullable = true)\n",
      "\n",
      "+----------+--------------------+--------------------+-------------+--------------+-----------------+-------------+---------------+-------------------+-------------+\n",
      "|Price_in_K|     duration_robust|    days_left_minmax|   airlineENC|source_cityENC|departure_timeENC|     stopsENC|arrival_timeENC|destination_cityENC|     classENC|\n",
      "+----------+--------------------+--------------------+-------------+--------------+-----------------+-------------+---------------+-------------------+-------------+\n",
      "|        12| [1.222222222222222]|[0.04166666666666...|(5,[1],[1.0])| (5,[0],[1.0])|    (5,[3],[1.0])|(2,[0],[1.0])|  (5,[2],[1.0])|      (5,[0],[1.0])|(1,[0],[1.0])|\n",
      "|        12|               [1.0]|            [0.0625]|(5,[1],[1.0])| (5,[0],[1.0])|    (5,[1],[1.0])|(2,[0],[1.0])|  (5,[3],[1.0])|      (5,[0],[1.0])|(1,[0],[1.0])|\n",
      "|         6|[0.2222222222222222]|             [0.125]|(5,[2],[1.0])| (5,[0],[1.0])|    (5,[2],[1.0])|(2,[1],[1.0])|  (5,[0],[1.0])|      (5,[0],[1.0])|(1,[0],[1.0])|\n",
      "|         7|[0.2222222222222222]|             [0.125]|(5,[2],[1.0])| (5,[0],[1.0])|    (5,[0],[1.0])|(2,[1],[1.0])|  (5,[2],[1.0])|      (5,[0],[1.0])|(1,[0],[1.0])|\n",
      "|        15| [1.222222222222222]|            [0.1875]|(5,[1],[1.0])| (5,[0],[1.0])|    (5,[0],[1.0])|(2,[0],[1.0])|  (5,[0],[1.0])|      (5,[0],[1.0])|(1,[0],[1.0])|\n",
      "|         6|[0.2222222222222222]|[0.20833333333333...|(5,[0],[1.0])| (5,[0],[1.0])|    (5,[2],[1.0])|(2,[1],[1.0])|  (5,[0],[1.0])|      (5,[0],[1.0])|(1,[0],[1.0])|\n",
      "|        10|[1.6666666666666665]|[0.20833333333333...|(5,[4],[1.0])| (5,[0],[1.0])|    (5,[2],[1.0])|(2,[0],[1.0])|  (5,[4],[1.0])|      (5,[0],[1.0])|(1,[0],[1.0])|\n",
      "|        11|[0.5555555555555556]|[0.20833333333333...|(5,[2],[1.0])| (5,[0],[1.0])|    (5,[1],[1.0])|(2,[0],[1.0])|  (5,[2],[1.0])|      (5,[0],[1.0])|(1,[0],[1.0])|\n",
      "|         6|[0.2222222222222222]|[0.22916666666666...|(5,[0],[1.0])| (5,[0],[1.0])|    (5,[4],[1.0])|(2,[1],[1.0])|  (5,[1],[1.0])|      (5,[0],[1.0])|(1,[0],[1.0])|\n",
      "|        12|[1.3333333333333333]|[0.2708333333333333]|(5,[0],[1.0])| (5,[0],[1.0])|    (5,[0],[1.0])|(2,[0],[1.0])|  (5,[0],[1.0])|      (5,[0],[1.0])|(1,[0],[1.0])|\n",
      "|         3|[0.2222222222222222]|            [0.3125]|(5,[2],[1.0])| (5,[0],[1.0])|    (5,[2],[1.0])|(2,[1],[1.0])|  (5,[1],[1.0])|      (5,[0],[1.0])|(1,[0],[1.0])|\n",
      "|         5|               [1.0]|[0.3333333333333333]|(5,[4],[1.0])| (5,[0],[1.0])|    (5,[2],[1.0])|(2,[0],[1.0])|      (5,[],[])|      (5,[0],[1.0])|(1,[0],[1.0])|\n",
      "|         6|[1.3333333333333333]|[0.3333333333333333]|(5,[0],[1.0])| (5,[0],[1.0])|    (5,[2],[1.0])|(2,[0],[1.0])|  (5,[2],[1.0])|      (5,[0],[1.0])|(1,[0],[1.0])|\n",
      "|         3|[0.2222222222222222]|[0.35416666666666...|    (5,[],[])| (5,[0],[1.0])|    (5,[2],[1.0])|(2,[1],[1.0])|  (5,[0],[1.0])|      (5,[0],[1.0])|(1,[0],[1.0])|\n",
      "|         2|[0.2222222222222222]|             [0.375]|(5,[3],[1.0])| (5,[0],[1.0])|    (5,[1],[1.0])|(2,[1],[1.0])|  (5,[2],[1.0])|      (5,[0],[1.0])|(1,[0],[1.0])|\n",
      "|         2|[1.5555555555555554]|             [0.375]|(5,[4],[1.0])| (5,[0],[1.0])|    (5,[3],[1.0])|(2,[0],[1.0])|  (5,[3],[1.0])|      (5,[0],[1.0])|(1,[0],[1.0])|\n",
      "|         6|[1.3333333333333333]|             [0.375]|(5,[0],[1.0])| (5,[0],[1.0])|    (5,[3],[1.0])|(2,[0],[1.0])|  (5,[2],[1.0])|      (5,[0],[1.0])|(1,[0],[1.0])|\n",
      "|         4|[1.7777777777777777]|[0.3958333333333333]|(5,[1],[1.0])| (5,[0],[1.0])|    (5,[2],[1.0])|(2,[0],[1.0])|  (5,[2],[1.0])|      (5,[0],[1.0])|(1,[0],[1.0])|\n",
      "|        10|[0.4444444444444444]|[0.41666666666666...|(5,[0],[1.0])| (5,[0],[1.0])|    (5,[2],[1.0])|(2,[0],[1.0])|  (5,[0],[1.0])|      (5,[0],[1.0])|(1,[0],[1.0])|\n",
      "|         3|[0.2222222222222222]|[0.4583333333333333]|(5,[0],[1.0])| (5,[0],[1.0])|    (5,[0],[1.0])|(2,[1],[1.0])|  (5,[3],[1.0])|      (5,[0],[1.0])|(1,[0],[1.0])|\n",
      "+----------+--------------------+--------------------+-------------+--------------+-----------------+-------------+---------------+-------------------+-------------+\n",
      "only showing top 20 rows\n",
      "\n"
     ]
    }
   ],
   "source": [
    "clean_df_enc=enc_clean_df.drop(\"airlineNDX\",\"source_cityNDX\",\"departure_timeNDX\",\"stopsNDX\",\"arrival_timeNDX\",\"destination_cityNDX\",\"classNDX\")\n",
    "clean_df_enc.printSchema()\n",
    "clean_df_enc.show()"
   ],
   "metadata": {
    "collapsed": false,
    "pycharm": {
     "name": "#%%\n"
    }
   }
  },
  {
   "cell_type": "markdown",
   "source": [
    "## Create X (Features) and Y (Target)"
   ],
   "metadata": {
    "collapsed": false,
    "pycharm": {
     "name": "#%% md\n"
    }
   }
  },
  {
   "cell_type": "code",
   "execution_count": 64,
   "outputs": [],
   "source": [
    "regr_assembler = VectorAssembler(inputCols=['duration_robust', 'days_left_minmax', 'airlineENC','source_cityENC','departure_timeENC','stopsENC',\"arrival_timeENC\",\"destination_cityENC\",\"classENC\"], outputCol='features')"
   ],
   "metadata": {
    "collapsed": false,
    "pycharm": {
     "name": "#%%\n"
    }
   }
  },
  {
   "cell_type": "code",
   "execution_count": 65,
   "outputs": [],
   "source": [
    "transform=regr_assembler.transform(clean_df_enc)"
   ],
   "metadata": {
    "collapsed": false,
    "pycharm": {
     "name": "#%%\n"
    }
   }
  },
  {
   "cell_type": "code",
   "execution_count": 66,
   "outputs": [
    {
     "name": "stdout",
     "output_type": "stream",
     "text": [
      "+----------+--------------------+--------------------+-------------+--------------+-----------------+-------------+---------------+-------------------+-------------+--------------------+\n",
      "|Price_in_K|     duration_robust|    days_left_minmax|   airlineENC|source_cityENC|departure_timeENC|     stopsENC|arrival_timeENC|destination_cityENC|     classENC|            features|\n",
      "+----------+--------------------+--------------------+-------------+--------------+-----------------+-------------+---------------+-------------------+-------------+--------------------+\n",
      "|        12| [1.222222222222222]|[0.04166666666666...|(5,[1],[1.0])| (5,[0],[1.0])|    (5,[3],[1.0])|(2,[0],[1.0])|  (5,[2],[1.0])|      (5,[0],[1.0])|(1,[0],[1.0])|(30,[0,1,3,7,15,1...|\n",
      "|        12|               [1.0]|            [0.0625]|(5,[1],[1.0])| (5,[0],[1.0])|    (5,[1],[1.0])|(2,[0],[1.0])|  (5,[3],[1.0])|      (5,[0],[1.0])|(1,[0],[1.0])|(30,[0,1,3,7,13,1...|\n",
      "|         6|[0.2222222222222222]|             [0.125]|(5,[2],[1.0])| (5,[0],[1.0])|    (5,[2],[1.0])|(2,[1],[1.0])|  (5,[0],[1.0])|      (5,[0],[1.0])|(1,[0],[1.0])|(30,[0,1,4,7,14,1...|\n",
      "|         7|[0.2222222222222222]|             [0.125]|(5,[2],[1.0])| (5,[0],[1.0])|    (5,[0],[1.0])|(2,[1],[1.0])|  (5,[2],[1.0])|      (5,[0],[1.0])|(1,[0],[1.0])|(30,[0,1,4,7,12,1...|\n",
      "|        15| [1.222222222222222]|            [0.1875]|(5,[1],[1.0])| (5,[0],[1.0])|    (5,[0],[1.0])|(2,[0],[1.0])|  (5,[0],[1.0])|      (5,[0],[1.0])|(1,[0],[1.0])|(30,[0,1,3,7,12,1...|\n",
      "|         6|[0.2222222222222222]|[0.20833333333333...|(5,[0],[1.0])| (5,[0],[1.0])|    (5,[2],[1.0])|(2,[1],[1.0])|  (5,[0],[1.0])|      (5,[0],[1.0])|(1,[0],[1.0])|(30,[0,1,2,7,14,1...|\n",
      "|        10|[1.6666666666666665]|[0.20833333333333...|(5,[4],[1.0])| (5,[0],[1.0])|    (5,[2],[1.0])|(2,[0],[1.0])|  (5,[4],[1.0])|      (5,[0],[1.0])|(1,[0],[1.0])|(30,[0,1,6,7,14,1...|\n",
      "|        11|[0.5555555555555556]|[0.20833333333333...|(5,[2],[1.0])| (5,[0],[1.0])|    (5,[1],[1.0])|(2,[0],[1.0])|  (5,[2],[1.0])|      (5,[0],[1.0])|(1,[0],[1.0])|(30,[0,1,4,7,13,1...|\n",
      "|         6|[0.2222222222222222]|[0.22916666666666...|(5,[0],[1.0])| (5,[0],[1.0])|    (5,[4],[1.0])|(2,[1],[1.0])|  (5,[1],[1.0])|      (5,[0],[1.0])|(1,[0],[1.0])|(30,[0,1,2,7,16,1...|\n",
      "|        12|[1.3333333333333333]|[0.2708333333333333]|(5,[0],[1.0])| (5,[0],[1.0])|    (5,[0],[1.0])|(2,[0],[1.0])|  (5,[0],[1.0])|      (5,[0],[1.0])|(1,[0],[1.0])|(30,[0,1,2,7,12,1...|\n",
      "|         3|[0.2222222222222222]|            [0.3125]|(5,[2],[1.0])| (5,[0],[1.0])|    (5,[2],[1.0])|(2,[1],[1.0])|  (5,[1],[1.0])|      (5,[0],[1.0])|(1,[0],[1.0])|(30,[0,1,4,7,14,1...|\n",
      "|         5|               [1.0]|[0.3333333333333333]|(5,[4],[1.0])| (5,[0],[1.0])|    (5,[2],[1.0])|(2,[0],[1.0])|      (5,[],[])|      (5,[0],[1.0])|(1,[0],[1.0])|(30,[0,1,6,7,14,1...|\n",
      "|         6|[1.3333333333333333]|[0.3333333333333333]|(5,[0],[1.0])| (5,[0],[1.0])|    (5,[2],[1.0])|(2,[0],[1.0])|  (5,[2],[1.0])|      (5,[0],[1.0])|(1,[0],[1.0])|(30,[0,1,2,7,14,1...|\n",
      "|         3|[0.2222222222222222]|[0.35416666666666...|    (5,[],[])| (5,[0],[1.0])|    (5,[2],[1.0])|(2,[1],[1.0])|  (5,[0],[1.0])|      (5,[0],[1.0])|(1,[0],[1.0])|(30,[0,1,7,14,18,...|\n",
      "|         2|[0.2222222222222222]|             [0.375]|(5,[3],[1.0])| (5,[0],[1.0])|    (5,[1],[1.0])|(2,[1],[1.0])|  (5,[2],[1.0])|      (5,[0],[1.0])|(1,[0],[1.0])|(30,[0,1,5,7,13,1...|\n",
      "|         2|[1.5555555555555554]|             [0.375]|(5,[4],[1.0])| (5,[0],[1.0])|    (5,[3],[1.0])|(2,[0],[1.0])|  (5,[3],[1.0])|      (5,[0],[1.0])|(1,[0],[1.0])|(30,[0,1,6,7,15,1...|\n",
      "|         6|[1.3333333333333333]|             [0.375]|(5,[0],[1.0])| (5,[0],[1.0])|    (5,[3],[1.0])|(2,[0],[1.0])|  (5,[2],[1.0])|      (5,[0],[1.0])|(1,[0],[1.0])|(30,[0,1,2,7,15,1...|\n",
      "|         4|[1.7777777777777777]|[0.3958333333333333]|(5,[1],[1.0])| (5,[0],[1.0])|    (5,[2],[1.0])|(2,[0],[1.0])|  (5,[2],[1.0])|      (5,[0],[1.0])|(1,[0],[1.0])|(30,[0,1,3,7,14,1...|\n",
      "|        10|[0.4444444444444444]|[0.41666666666666...|(5,[0],[1.0])| (5,[0],[1.0])|    (5,[2],[1.0])|(2,[0],[1.0])|  (5,[0],[1.0])|      (5,[0],[1.0])|(1,[0],[1.0])|(30,[0,1,2,7,14,1...|\n",
      "|         3|[0.2222222222222222]|[0.4583333333333333]|(5,[0],[1.0])| (5,[0],[1.0])|    (5,[0],[1.0])|(2,[1],[1.0])|  (5,[3],[1.0])|      (5,[0],[1.0])|(1,[0],[1.0])|(30,[0,1,2,7,12,1...|\n",
      "+----------+--------------------+--------------------+-------------+--------------+-----------------+-------------+---------------+-------------------+-------------+--------------------+\n",
      "only showing top 20 rows\n",
      "\n"
     ]
    }
   ],
   "source": [
    "transform.show()"
   ],
   "metadata": {
    "collapsed": false,
    "pycharm": {
     "name": "#%%\n"
    }
   }
  },
  {
   "cell_type": "code",
   "execution_count": 67,
   "outputs": [],
   "source": [
    "final_df=transform.select(\"Price_in_K\",\"features\")"
   ],
   "metadata": {
    "collapsed": false,
    "pycharm": {
     "name": "#%%\n"
    }
   }
  },
  {
   "cell_type": "code",
   "execution_count": 68,
   "outputs": [
    {
     "name": "stdout",
     "output_type": "stream",
     "text": [
      "+----------+--------------------+\n",
      "|Price_in_K|            features|\n",
      "+----------+--------------------+\n",
      "|        12|(30,[0,1,3,7,15,1...|\n",
      "|        12|(30,[0,1,3,7,13,1...|\n",
      "|         6|(30,[0,1,4,7,14,1...|\n",
      "|         7|(30,[0,1,4,7,12,1...|\n",
      "|        15|(30,[0,1,3,7,12,1...|\n",
      "|         6|(30,[0,1,2,7,14,1...|\n",
      "|        10|(30,[0,1,6,7,14,1...|\n",
      "|        11|(30,[0,1,4,7,13,1...|\n",
      "|         6|(30,[0,1,2,7,16,1...|\n",
      "|        12|(30,[0,1,2,7,12,1...|\n",
      "|         3|(30,[0,1,4,7,14,1...|\n",
      "|         5|(30,[0,1,6,7,14,1...|\n",
      "|         6|(30,[0,1,2,7,14,1...|\n",
      "|         3|(30,[0,1,7,14,18,...|\n",
      "|         2|(30,[0,1,5,7,13,1...|\n",
      "|         2|(30,[0,1,6,7,15,1...|\n",
      "|         6|(30,[0,1,2,7,15,1...|\n",
      "|         4|(30,[0,1,3,7,14,1...|\n",
      "|        10|(30,[0,1,2,7,14,1...|\n",
      "|         3|(30,[0,1,2,7,12,1...|\n",
      "+----------+--------------------+\n",
      "only showing top 20 rows\n",
      "\n"
     ]
    }
   ],
   "source": [
    "final_df.show()"
   ],
   "metadata": {
    "collapsed": false,
    "pycharm": {
     "name": "#%%\n"
    }
   }
  },
  {
   "cell_type": "markdown",
   "source": [
    "# Create Train Set and Test Set"
   ],
   "metadata": {
    "collapsed": false,
    "pycharm": {
     "name": "#%% md\n"
    }
   }
  },
  {
   "cell_type": "code",
   "execution_count": 69,
   "outputs": [],
   "source": [
    "train, test = final_df.randomSplit([0.7,0.3], seed=0)"
   ],
   "metadata": {
    "collapsed": false,
    "pycharm": {
     "name": "#%%\n"
    }
   }
  },
  {
   "cell_type": "code",
   "execution_count": 70,
   "outputs": [
    {
     "name": "stdout",
     "output_type": "stream",
     "text": [
      "+----------+--------------------+\n",
      "|Price_in_K|            features|\n",
      "+----------+--------------------+\n",
      "|         1|(30,[0,1,4,12,18,...|\n",
      "|         1|(30,[0,1,4,16,17,...|\n",
      "|         1|(30,[0,1,4,16,17,...|\n",
      "|         2|(30,[0,1,2,8,15,1...|\n",
      "|         2|(30,[0,1,2,8,16,1...|\n",
      "|         2|(30,[0,1,2,9,12,1...|\n",
      "|         2|(30,[0,1,3,7,12,1...|\n",
      "|         2|(30,[0,1,3,7,12,1...|\n",
      "|         2|(30,[0,1,3,7,12,1...|\n",
      "|         2|(30,[0,1,3,7,14,1...|\n",
      "|         2|(30,[0,1,3,8,15,1...|\n",
      "|         2|(30,[0,1,3,13,18,...|\n",
      "|         2|(30,[0,1,4,7,14,1...|\n",
      "|         2|(30,[0,1,4,7,15,1...|\n",
      "|         2|(30,[0,1,4,7,16,1...|\n",
      "|         2|(30,[0,1,4,8,13,1...|\n",
      "|         2|(30,[0,1,4,8,13,1...|\n",
      "|         2|(30,[0,1,4,8,15,1...|\n",
      "|         2|(30,[0,1,4,8,15,1...|\n",
      "|         2|(30,[0,1,4,8,16,1...|\n",
      "+----------+--------------------+\n",
      "only showing top 20 rows\n",
      "\n"
     ]
    }
   ],
   "source": [
    "train.show()"
   ],
   "metadata": {
    "collapsed": false,
    "pycharm": {
     "name": "#%%\n"
    }
   }
  },
  {
   "cell_type": "markdown",
   "source": [
    "## Application of Machine Learning Models:\n",
    "# Linear Regression\n",
    "**Y = Price_in_K**\n",
    "**X = All others Variables**"
   ],
   "metadata": {
    "collapsed": false,
    "pycharm": {
     "name": "#%% md\n"
    }
   }
  },
  {
   "cell_type": "code",
   "execution_count": 71,
   "outputs": [],
   "source": [
    "LR= LinearRegression(featuresCol='features', labelCol='Price_in_K', predictionCol='prediction')"
   ],
   "metadata": {
    "collapsed": false,
    "pycharm": {
     "name": "#%%\n"
    }
   }
  },
  {
   "cell_type": "code",
   "execution_count": 72,
   "outputs": [],
   "source": [
    "LR_model=LR.fit(train)"
   ],
   "metadata": {
    "collapsed": false,
    "pycharm": {
     "name": "#%%\n"
    }
   }
  },
  {
   "cell_type": "code",
   "execution_count": 73,
   "outputs": [
    {
     "name": "stdout",
     "output_type": "stream",
     "text": [
      "+----------+--------------------+\n",
      "|Price_in_K|            features|\n",
      "+----------+--------------------+\n",
      "|         1|(30,[0,1,4,12,17,...|\n",
      "|         1|(30,[0,1,6,15,18,...|\n",
      "|         2|(30,[0,1,2,9,14,1...|\n",
      "|         2|(30,[0,1,4,8,14,1...|\n",
      "|         2|(30,[0,1,4,8,14,1...|\n",
      "|         2|(30,[0,1,4,11,12,...|\n",
      "|         2|(30,[0,1,4,11,13,...|\n",
      "|         2|(30,[0,1,4,11,13,...|\n",
      "|         2|(30,[0,1,4,11,14,...|\n",
      "|         2|(30,[0,1,4,12,18,...|\n",
      "|         2|(30,[0,1,4,14,17,...|\n",
      "|         2|(30,[0,1,4,15,18,...|\n",
      "|         2|(30,[0,1,5,7,13,1...|\n",
      "|         2|(30,[0,1,6,7,12,1...|\n",
      "|         2|(30,[0,1,6,7,12,1...|\n",
      "|         2|(30,[0,1,6,7,13,1...|\n",
      "|         2|(30,[0,1,6,8,12,1...|\n",
      "|         2|(30,[0,1,6,8,12,1...|\n",
      "|         2|(30,[0,1,6,8,12,1...|\n",
      "|         2|(30,[0,1,6,8,15,1...|\n",
      "+----------+--------------------+\n",
      "only showing top 20 rows\n",
      "\n"
     ]
    }
   ],
   "source": [
    "test.show()"
   ],
   "metadata": {
    "collapsed": false,
    "pycharm": {
     "name": "#%%\n"
    }
   }
  },
  {
   "cell_type": "code",
   "execution_count": 74,
   "outputs": [],
   "source": [
    "new_data=test.select(\"features\")"
   ],
   "metadata": {
    "collapsed": false,
    "pycharm": {
     "name": "#%%\n"
    }
   }
  },
  {
   "cell_type": "code",
   "execution_count": 75,
   "outputs": [],
   "source": [
    "predictions=LR_model.transform(new_data)"
   ],
   "metadata": {
    "collapsed": false,
    "pycharm": {
     "name": "#%%\n"
    }
   }
  },
  {
   "cell_type": "code",
   "execution_count": 76,
   "outputs": [
    {
     "name": "stdout",
     "output_type": "stream",
     "text": [
      "+--------------------+--------------------+\n",
      "|            features|          prediction|\n",
      "+--------------------+--------------------+\n",
      "|(30,[0,1,4,12,17,...|   3.770230545950511|\n",
      "|(30,[0,1,6,15,18,...| -3.4739603053708734|\n",
      "|(30,[0,1,2,9,14,1...|  0.9488452420068612|\n",
      "|(30,[0,1,4,8,14,1...|   5.896723708465451|\n",
      "|(30,[0,1,4,8,14,1...| -0.5902115743445719|\n",
      "|(30,[0,1,4,11,12,...|  3.4363238981555355|\n",
      "|(30,[0,1,4,11,13,...|   4.620664125358367|\n",
      "|(30,[0,1,4,11,13,...|  3.2464923522671825|\n",
      "|(30,[0,1,4,11,14,...|  3.8068887067653137|\n",
      "|(30,[0,1,4,12,18,...| -3.6043612920926833|\n",
      "|(30,[0,1,4,14,17,...|   7.308672209063737|\n",
      "|(30,[0,1,4,15,18,...|-0.43656223437546515|\n",
      "|(30,[0,1,5,7,13,1...|  -4.171779044253974|\n",
      "|(30,[0,1,6,7,12,1...|  3.1865299862296865|\n",
      "|(30,[0,1,6,7,12,1...|    3.14609162726196|\n",
      "|(30,[0,1,6,7,13,1...|   8.441297258165939|\n",
      "|(30,[0,1,6,8,12,1...|   4.627221309710741|\n",
      "|(30,[0,1,6,8,12,1...|   4.082263074466688|\n",
      "|(30,[0,1,6,8,12,1...|   2.152772659608253|\n",
      "|(30,[0,1,6,8,15,1...|    5.61877139668146|\n",
      "+--------------------+--------------------+\n",
      "only showing top 20 rows\n",
      "\n"
     ]
    }
   ],
   "source": [
    "predictions.show()"
   ],
   "metadata": {
    "collapsed": false,
    "pycharm": {
     "name": "#%%\n"
    }
   }
  },
  {
   "cell_type": "markdown",
   "source": [
    "# Final Results:"
   ],
   "metadata": {
    "collapsed": false,
    "pycharm": {
     "name": "#%% md\n"
    }
   }
  },
  {
   "cell_type": "markdown",
   "source": [
    "## Train Results"
   ],
   "metadata": {
    "collapsed": false,
    "pycharm": {
     "name": "#%% md\n"
    }
   }
  },
  {
   "cell_type": "code",
   "execution_count": 77,
   "outputs": [],
   "source": [
    "trainingSummary=LR_model.summary"
   ],
   "metadata": {
    "collapsed": false,
    "pycharm": {
     "name": "#%%\n"
    }
   }
  },
  {
   "cell_type": "code",
   "execution_count": 78,
   "outputs": [
    {
     "name": "stdout",
     "output_type": "stream",
     "text": [
      "Train Set Results:\n",
      "MAE: 4.567623477948855\n",
      "RMSE: 6.704351139160643\n",
      "R^2 measure: 0.9126143199834577\n",
      "+-------+------------------+\n",
      "|summary|        Price_in_K|\n",
      "+-------+------------------+\n",
      "|  count|            209833|\n",
      "|   mean|20.848984668760394|\n",
      "| stddev|22.679718096967324|\n",
      "|    min|                 1|\n",
      "|    max|                99|\n",
      "+-------+------------------+\n",
      "\n"
     ]
    }
   ],
   "source": [
    "print(\"Train Set Results:\")\n",
    "print(f\"MAE: {trainingSummary.meanAbsoluteError}\")\n",
    "print(f\"RMSE: {trainingSummary.rootMeanSquaredError}\")\n",
    "print(f\"R^2 measure: {trainingSummary.r2}\")\n",
    "train.describe().show()"
   ],
   "metadata": {
    "collapsed": false,
    "pycharm": {
     "name": "#%%\n"
    }
   }
  },
  {
   "cell_type": "markdown",
   "source": [
    "## Test Results"
   ],
   "metadata": {
    "collapsed": false,
    "pycharm": {
     "name": "#%% md\n"
    }
   }
  },
  {
   "cell_type": "code",
   "execution_count": 79,
   "outputs": [],
   "source": [
    "test_result= LR_model.evaluate(test)"
   ],
   "metadata": {
    "collapsed": false,
    "pycharm": {
     "name": "#%%\n"
    }
   }
  },
  {
   "cell_type": "code",
   "execution_count": 80,
   "outputs": [
    {
     "name": "stdout",
     "output_type": "stream",
     "text": [
      "Test Set Results:\n",
      "MAE: 4.554033585972976\n",
      "RMSE: 6.6975412145454305\n",
      "R^2 measure: 0.9125960776751125\n",
      "R^2adjusted: 0.9125669776310567\n",
      "+-------+------------------+\n",
      "|summary|        Price_in_K|\n",
      "+-------+------------------+\n",
      "|  count|             90138|\n",
      "|   mean|20.814062881359693|\n",
      "| stddev|22.654388432781385|\n",
      "|    min|                 1|\n",
      "|    max|                99|\n",
      "+-------+------------------+\n",
      "\n"
     ]
    }
   ],
   "source": [
    "print(\"Test Set Results:\")\n",
    "print(f\"MAE: {test_result.meanAbsoluteError}\")\n",
    "print(f\"RMSE: {test_result.rootMeanSquaredError}\")\n",
    "print(f\"R^2 measure: {test_result.r2}\")\n",
    "print(f\"R^2adjusted: {test_result.r2adj}\")\n",
    "test.describe().show()"
   ],
   "metadata": {
    "collapsed": false,
    "pycharm": {
     "name": "#%%\n"
    }
   }
  },
  {
   "cell_type": "markdown",
   "source": [
    "# Second Linear Regression Model\n",
    "**Y = Price_in_K**\n",
    "**X = Airline,Class,Duration,Days_left**"
   ],
   "metadata": {
    "collapsed": false,
    "pycharm": {
     "name": "#%% md\n"
    }
   }
  },
  {
   "cell_type": "code",
   "execution_count": 81,
   "outputs": [
    {
     "name": "stdout",
     "output_type": "stream",
     "text": [
      "root\n",
      " |-- Price_in_K: integer (nullable = true)\n",
      " |-- duration_robust: vector (nullable = true)\n",
      " |-- days_left_minmax: vector (nullable = true)\n",
      " |-- airlineENC: vector (nullable = true)\n",
      " |-- source_cityENC: vector (nullable = true)\n",
      " |-- departure_timeENC: vector (nullable = true)\n",
      " |-- stopsENC: vector (nullable = true)\n",
      " |-- arrival_timeENC: vector (nullable = true)\n",
      " |-- destination_cityENC: vector (nullable = true)\n",
      " |-- classENC: vector (nullable = true)\n",
      "\n",
      "root\n",
      " |-- Price_in_K: integer (nullable = true)\n",
      " |-- duration_robust: vector (nullable = true)\n",
      " |-- days_left_minmax: vector (nullable = true)\n",
      " |-- airlineENC: vector (nullable = true)\n",
      " |-- source_cityENC: vector (nullable = true)\n",
      " |-- departure_timeENC: vector (nullable = true)\n",
      " |-- stopsENC: vector (nullable = true)\n",
      " |-- arrival_timeENC: vector (nullable = true)\n",
      " |-- destination_cityENC: vector (nullable = true)\n",
      " |-- classENC: vector (nullable = true)\n",
      "\n"
     ]
    }
   ],
   "source": [
    "clean_df_enc.printSchema()\n",
    "sec_clean_df_enc = clean_df_enc\n",
    "sec_clean_df_enc.printSchema()"
   ],
   "metadata": {
    "collapsed": false,
    "pycharm": {
     "name": "#%%\n"
    }
   }
  },
  {
   "cell_type": "code",
   "execution_count": 82,
   "outputs": [],
   "source": [
    "sec_regr_assembler = VectorAssembler(inputCols=[\"airlineENC\",\"classENC\",\"duration_robust\",\"days_left_minmax\"], outputCol='sec_features')"
   ],
   "metadata": {
    "collapsed": false,
    "pycharm": {
     "name": "#%%\n"
    }
   }
  },
  {
   "cell_type": "code",
   "execution_count": 83,
   "outputs": [],
   "source": [
    "sec_transform=sec_regr_assembler.transform(sec_clean_df_enc)"
   ],
   "metadata": {
    "collapsed": false,
    "pycharm": {
     "name": "#%%\n"
    }
   }
  },
  {
   "cell_type": "code",
   "execution_count": 84,
   "outputs": [],
   "source": [
    "sec_final_df=sec_transform.select(\"Price_in_K\",\"sec_features\")"
   ],
   "metadata": {
    "collapsed": false,
    "pycharm": {
     "name": "#%%\n"
    }
   }
  },
  {
   "cell_type": "code",
   "execution_count": 85,
   "outputs": [
    {
     "name": "stdout",
     "output_type": "stream",
     "text": [
      "+----------+--------------------+\n",
      "|Price_in_K|        sec_features|\n",
      "+----------+--------------------+\n",
      "|        12|(8,[1,5,6,7],[1.0...|\n",
      "|        12|(8,[1,5,6,7],[1.0...|\n",
      "|         6|(8,[2,5,6,7],[1.0...|\n",
      "|         7|(8,[2,5,6,7],[1.0...|\n",
      "|        15|(8,[1,5,6,7],[1.0...|\n",
      "|         6|(8,[0,5,6,7],[1.0...|\n",
      "|        10|(8,[4,5,6,7],[1.0...|\n",
      "|        11|(8,[2,5,6,7],[1.0...|\n",
      "|         6|(8,[0,5,6,7],[1.0...|\n",
      "|        12|(8,[0,5,6,7],[1.0...|\n",
      "|         3|(8,[2,5,6,7],[1.0...|\n",
      "|         5|(8,[4,5,6,7],[1.0...|\n",
      "|         6|(8,[0,5,6,7],[1.0...|\n",
      "|         3|(8,[5,6,7],[1.0,0...|\n",
      "|         2|(8,[3,5,6,7],[1.0...|\n",
      "|         2|(8,[4,5,6,7],[1.0...|\n",
      "|         6|(8,[0,5,6,7],[1.0...|\n",
      "|         4|(8,[1,5,6,7],[1.0...|\n",
      "|        10|(8,[0,5,6,7],[1.0...|\n",
      "|         3|(8,[0,5,6,7],[1.0...|\n",
      "+----------+--------------------+\n",
      "only showing top 20 rows\n",
      "\n"
     ]
    }
   ],
   "source": [
    "sec_final_df.show()"
   ],
   "metadata": {
    "collapsed": false,
    "pycharm": {
     "name": "#%%\n"
    }
   }
  },
  {
   "cell_type": "code",
   "execution_count": 86,
   "outputs": [],
   "source": [
    "sec_train, sec_test = sec_final_df.randomSplit([0.7,0.3], seed=0)"
   ],
   "metadata": {
    "collapsed": false,
    "pycharm": {
     "name": "#%%\n"
    }
   }
  },
  {
   "cell_type": "code",
   "execution_count": 87,
   "outputs": [],
   "source": [
    "sec_LR = LinearRegression(featuresCol='sec_features', labelCol='Price_in_K', predictionCol='prediction')\n",
    "sec_LR_model = sec_LR.fit(sec_train)"
   ],
   "metadata": {
    "collapsed": false,
    "pycharm": {
     "name": "#%%\n"
    }
   }
  },
  {
   "cell_type": "code",
   "execution_count": 88,
   "outputs": [],
   "source": [
    "sec_new_data = sec_test.select(\"sec_features\")\n",
    "sec_predictions = sec_LR_model.transform(sec_new_data)"
   ],
   "metadata": {
    "collapsed": false,
    "pycharm": {
     "name": "#%%\n"
    }
   }
  },
  {
   "cell_type": "code",
   "execution_count": 89,
   "outputs": [
    {
     "name": "stdout",
     "output_type": "stream",
     "text": [
      "Second Train Set Results:\n",
      "MAE: 4.489467457047102\n",
      "RMSE: 7.203431957046782\n",
      "R^2 measure: 0.8991198586717164\n",
      "+-------+------------------+\n",
      "|summary|        Price_in_K|\n",
      "+-------+------------------+\n",
      "|  count|            209833|\n",
      "|   mean|20.848984668760394|\n",
      "| stddev|22.679718096967324|\n",
      "|    min|                 1|\n",
      "|    max|                99|\n",
      "+-------+------------------+\n",
      "\n"
     ]
    }
   ],
   "source": [
    "sec_trainingSummary = sec_LR_model.summary\n",
    "print(\"Second Train Set Results:\")\n",
    "print(f\"MAE: {sec_trainingSummary.meanAbsoluteError}\")\n",
    "print(f\"RMSE: {sec_trainingSummary.rootMeanSquaredError}\")\n",
    "print(f\"R^2 measure: {sec_trainingSummary.r2}\")\n",
    "sec_train.describe().show()"
   ],
   "metadata": {
    "collapsed": false,
    "pycharm": {
     "name": "#%%\n"
    }
   }
  },
  {
   "cell_type": "code",
   "execution_count": 90,
   "outputs": [
    {
     "name": "stdout",
     "output_type": "stream",
     "text": [
      "Second Test Set Results:\n",
      "MAE: 4.498806377890135\n",
      "RMSE: 7.208868773535858\n",
      "R^2 measure: 0.8987408278051601\n",
      "R^2adjusted: 0.8987318398725572\n",
      "+-------+------------------+\n",
      "|summary|        Price_in_K|\n",
      "+-------+------------------+\n",
      "|  count|             90138|\n",
      "|   mean|20.814062881359693|\n",
      "| stddev|22.654388432781385|\n",
      "|    min|                 1|\n",
      "|    max|                99|\n",
      "+-------+------------------+\n",
      "\n"
     ]
    }
   ],
   "source": [
    "sec_test_result = sec_LR_model.evaluate(sec_test)\n",
    "print(\"Second Test Set Results:\")\n",
    "print(f\"MAE: {sec_test_result.meanAbsoluteError}\")\n",
    "print(f\"RMSE: {sec_test_result.rootMeanSquaredError}\")\n",
    "print(f\"R^2 measure: {sec_test_result.r2}\")\n",
    "print(f\"R^2adjusted: {sec_test_result.r2adj}\")\n",
    "sec_test.describe().show()"
   ],
   "metadata": {
    "collapsed": false,
    "pycharm": {
     "name": "#%%\n"
    }
   }
  },
  {
   "cell_type": "markdown",
   "source": [
    "# Third Linear Regression Model\n",
    "**Y = Price_in_K**\n",
    "**X = Class**"
   ],
   "metadata": {
    "collapsed": false,
    "pycharm": {
     "name": "#%% md\n"
    }
   }
  },
  {
   "cell_type": "code",
   "execution_count": 91,
   "outputs": [
    {
     "name": "stdout",
     "output_type": "stream",
     "text": [
      "root\n",
      " |-- Price_in_K: integer (nullable = true)\n",
      " |-- duration_robust: vector (nullable = true)\n",
      " |-- days_left_minmax: vector (nullable = true)\n",
      " |-- airlineENC: vector (nullable = true)\n",
      " |-- source_cityENC: vector (nullable = true)\n",
      " |-- departure_timeENC: vector (nullable = true)\n",
      " |-- stopsENC: vector (nullable = true)\n",
      " |-- arrival_timeENC: vector (nullable = true)\n",
      " |-- destination_cityENC: vector (nullable = true)\n",
      " |-- classENC: vector (nullable = true)\n",
      "\n",
      "root\n",
      " |-- Price_in_K: integer (nullable = true)\n",
      " |-- duration_robust: vector (nullable = true)\n",
      " |-- days_left_minmax: vector (nullable = true)\n",
      " |-- airlineENC: vector (nullable = true)\n",
      " |-- source_cityENC: vector (nullable = true)\n",
      " |-- departure_timeENC: vector (nullable = true)\n",
      " |-- stopsENC: vector (nullable = true)\n",
      " |-- arrival_timeENC: vector (nullable = true)\n",
      " |-- destination_cityENC: vector (nullable = true)\n",
      " |-- classENC: vector (nullable = true)\n",
      "\n"
     ]
    }
   ],
   "source": [
    "clean_df_enc.printSchema()\n",
    "third_clean_df_enc = clean_df_enc\n",
    "third_clean_df_enc.printSchema()"
   ],
   "metadata": {
    "collapsed": false,
    "pycharm": {
     "name": "#%%\n"
    }
   }
  },
  {
   "cell_type": "code",
   "execution_count": 92,
   "outputs": [
    {
     "name": "stdout",
     "output_type": "stream",
     "text": [
      "+----------+--------------+\n",
      "|Price_in_K|third_features|\n",
      "+----------+--------------+\n",
      "|        12|         [1.0]|\n",
      "|        12|         [1.0]|\n",
      "|         6|         [1.0]|\n",
      "|         7|         [1.0]|\n",
      "|        15|         [1.0]|\n",
      "|         6|         [1.0]|\n",
      "|        10|         [1.0]|\n",
      "|        11|         [1.0]|\n",
      "|         6|         [1.0]|\n",
      "|        12|         [1.0]|\n",
      "|         3|         [1.0]|\n",
      "|         5|         [1.0]|\n",
      "|         6|         [1.0]|\n",
      "|         3|         [1.0]|\n",
      "|         2|         [1.0]|\n",
      "|         2|         [1.0]|\n",
      "|         6|         [1.0]|\n",
      "|         4|         [1.0]|\n",
      "|        10|         [1.0]|\n",
      "|         3|         [1.0]|\n",
      "+----------+--------------+\n",
      "only showing top 20 rows\n",
      "\n"
     ]
    }
   ],
   "source": [
    "third_regr_assembler = VectorAssembler(inputCols=[\"classENC\"], outputCol='third_features')\n",
    "third_transform = third_regr_assembler.transform(third_clean_df_enc)\n",
    "third_final_df = third_transform.select(\"Price_in_K\", \"third_features\")\n",
    "third_final_df.show()"
   ],
   "metadata": {
    "collapsed": false,
    "pycharm": {
     "name": "#%%\n"
    }
   }
  },
  {
   "cell_type": "code",
   "execution_count": 93,
   "outputs": [],
   "source": [
    "third_train, third_test = third_final_df.randomSplit([0.7, 0.3], seed=0)\n",
    "third_LR = LinearRegression(featuresCol='third_features', labelCol='Price_in_K', predictionCol='prediction')\n",
    "third_LR_model = third_LR.fit(third_train)\n",
    "third_new_data = third_test.select(\"third_features\")\n",
    "third_predictions = third_LR_model.transform(third_new_data)"
   ],
   "metadata": {
    "collapsed": false,
    "pycharm": {
     "name": "#%%\n"
    }
   }
  },
  {
   "cell_type": "code",
   "execution_count": 94,
   "outputs": [
    {
     "name": "stdout",
     "output_type": "stream",
     "text": [
      "Third Train Set Results:\n",
      "MAE: 4.905741493355071\n",
      "RMSE: 7.824139123329373\n",
      "R^2 measure: 0.8809854952106777\n",
      "+-------+------------------+\n",
      "|summary|        Price_in_K|\n",
      "+-------+------------------+\n",
      "|  count|            209833|\n",
      "|   mean|20.848984668760394|\n",
      "| stddev|22.679718096967324|\n",
      "|    min|                 1|\n",
      "|    max|                99|\n",
      "+-------+------------------+\n",
      "\n"
     ]
    }
   ],
   "source": [
    "third_trainingSummary = third_LR_model.summary\n",
    "print(\"Third Train Set Results:\")\n",
    "print(f\"MAE: {third_trainingSummary.meanAbsoluteError}\")\n",
    "print(f\"RMSE: {third_trainingSummary.rootMeanSquaredError}\")\n",
    "print(f\"R^2 measure: {third_trainingSummary.r2}\")\n",
    "third_train.describe().show()"
   ],
   "metadata": {
    "collapsed": false,
    "pycharm": {
     "name": "#%%\n"
    }
   }
  },
  {
   "cell_type": "code",
   "execution_count": 95,
   "outputs": [
    {
     "name": "stdout",
     "output_type": "stream",
     "text": [
      "Third Test Set Results:\n",
      "MAE: 4.90260192542796\n",
      "RMSE: 7.807911687889104\n",
      "R^2 measure: 0.8812127254747689\n",
      "R^2adjusted: 0.8812114076076067\n",
      "+-------+------------------+\n",
      "|summary|        Price_in_K|\n",
      "+-------+------------------+\n",
      "|  count|             90138|\n",
      "|   mean|20.814062881359693|\n",
      "| stddev|22.654388432781385|\n",
      "|    min|                 1|\n",
      "|    max|                99|\n",
      "+-------+------------------+\n",
      "\n"
     ]
    }
   ],
   "source": [
    "third_test_result = third_LR_model.evaluate(third_test)\n",
    "print(\"Third Test Set Results:\")\n",
    "print(f\"MAE: {third_test_result.meanAbsoluteError}\")\n",
    "print(f\"RMSE: {third_test_result.rootMeanSquaredError}\")\n",
    "print(f\"R^2 measure: {third_test_result.r2}\")\n",
    "print(f\"R^2adjusted: {third_test_result.r2adj}\")\n",
    "third_test.describe().show()"
   ],
   "metadata": {
    "collapsed": false,
    "pycharm": {
     "name": "#%%\n"
    }
   }
  },
  {
   "cell_type": "markdown",
   "source": [
    "# Close Spark Session"
   ],
   "metadata": {
    "collapsed": false,
    "pycharm": {
     "name": "#%% md\n"
    }
   }
  },
  {
   "cell_type": "code",
   "execution_count": 96,
   "outputs": [],
   "source": [
    "spark.stop()"
   ],
   "metadata": {
    "collapsed": false,
    "pycharm": {
     "name": "#%%\n"
    }
   }
  }
 ],
 "metadata": {
  "kernelspec": {
   "display_name": "Python 3",
   "language": "python",
   "name": "python3"
  },
  "language_info": {
   "codemirror_mode": {
    "name": "ipython",
    "version": 2
   },
   "file_extension": ".py",
   "mimetype": "text/x-python",
   "name": "python",
   "nbconvert_exporter": "python",
   "pygments_lexer": "ipython2",
   "version": "2.7.6"
  }
 },
 "nbformat": 4,
 "nbformat_minor": 0
}